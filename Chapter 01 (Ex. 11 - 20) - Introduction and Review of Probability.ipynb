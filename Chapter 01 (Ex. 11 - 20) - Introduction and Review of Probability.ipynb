{
 "cells": [
  {
   "cell_type": "markdown",
   "metadata": {},
   "source": [
    "**Exercise 1.11**. \n",
    "\n",
    "**(a)** For any given random variable $Y$, express $\\text{E}[|Y|]$ in terms of $\\int_{y < 0} F_Y(y) dy$ and $\\int_{y\\geq 0} F_Y^c(y) dy$.  Hint: Review the argument in Figure 1.4.\n",
    "\n",
    "**(b)** For some random variable $X$ with $\\text{E}[|X|] < \\infty$, let $Y = X - \\alpha$.  Using (a), show that\n",
    "\n",
    "$$ \\text{E}[|X - \\alpha|] = \\int_\\alpha^\\infty F_X(x) dx + \\int_{-\\infty}^\\alpha F_X^c(x) dx$$\n",
    "\n",
    "**(c)** Show that $\\text{E}[|X - \\alpha|]$ is minimized over $\\alpha$ by choosing $\\alpha$ to be the median of $X$.  Hint:  Both the easy way and the most instructive way to do this is to use a graphical argument involving shifting Figure 1.4.  Be careful to show that when the median is an interval, all points in this interval achieve the minimum."
   ]
  },
  {
   "cell_type": "markdown",
   "metadata": {},
   "source": [
    "**Solution**."
   ]
  },
  {
   "cell_type": "markdown",
   "metadata": {},
   "source": [
    "**(a)** We have:\n",
    "\n",
    "$$\n",
    "\\begin{align}\n",
    "\\text{E}[|Y|] &= \\int |y| f_Y(y) dy \\\\\n",
    "&= \\int_{y \\geq 0} y f_Y(y) dy + \\int_{y < 0} -y f_Y(y) dy \\\\\n",
    "&= \\int_0^\\infty \\left( \\int_0^y dz \\right) f_Y(y) dy + \\int_{-\\infty}^0 \\left( \\int_y^0 dz \\right) f_Y(y) dy \\\\\n",
    "&= \\int_0^\\infty \\left(\\int_z^\\infty f_Y(y) dy \\right) dz + \\int_{-\\infty}^0 \\left(\\int_{-\\infty}^z f_Y(y) dy \\right) dz \\\\\n",
    "&= \\int_0^\\infty F_Y^c(z) dz + \\int_{-\\infty}^0 F_Y(z) dz \\\\\n",
    "&= \\int_{y \\geq 0} F_Y^c(y) dy + \\int_{y < 0} F_Y(y) dy\n",
    "\\end{align} \n",
    "$$\n",
    "\n",
    "where we performed a integration order change over points $(y, z)$ by a similar argument as in exercise 1.6:\n",
    "\n",
    "$$ \n",
    "\\begin{align}\n",
    "\\{ (y, z) : y \\in [0, \\infty), z \\in [0, y] \\} &= \\{ (y, z) : z \\in [0, \\infty), y \\in [z, \\infty) \\} \\\\\n",
    "\\{ (y, z) : y \\in (-\\infty, 0), z \\in [y, 0] \\} &= \\{ (y, z) : z \\in [-\\infty, 0), y \\in (-\\infty, z) \\}\n",
    "\\end{align}\n",
    "$$\n",
    "\n",
    "and we used the fact that the integration from negative infinity to $z$ of the density function is the CDF, $ \\int_{y \\leq z} f_Y(y) dy = F_y(z)$, while the integration from $z$ to plus infinity is the complement of the CDF, $\\int_{y > z} f_Y(y) dy = F_Y^c(z)$."
   ]
  },
  {
   "cell_type": "markdown",
   "metadata": {},
   "source": [
    "**(b)**\n",
    "\n",
    "By definition, $Y = X - \\alpha$, so the CDF of $Y$ can be built from the CDF of $X$:\n",
    "\n",
    "$$ F_Y(x) = F_X(x - \\alpha) $$\n",
    "\n",
    "From (a),\n",
    "\n",
    "$$ \\text{E}[|Y|] = \\int_{x \\geq 0} F_Y^c(x) dx + \\int_{x < 0} F_Y(x) dx $$\n",
    "\n",
    "and so\n",
    "\n",
    "$$ \\text{E}[|X - \\alpha|] = \\int_{x \\geq 0} F_X^c(x - \\alpha) dx + \\int_{x < 0} F_X(x - \\alpha) dx = \\int_{x \\geq \\alpha} F_X^c(x) dx + \\int_{x < \\alpha} F_X(x) dx $$\n",
    "\n",
    "(note that the exercise has a typo:  it flips around the  CDF and its complement)"
   ]
  },
  {
   "cell_type": "markdown",
   "metadata": {},
   "source": [
    "**(c)**\n",
    "\n",
    "The intuitive argument is that changing the choice of $\\alpha$ will \"move points\" between the two integrands, causing them to be counted as $F_X(x)$ or $F_X^c(x)$.  Somewhat more formally, considering the function $g(a) = \\text{E}[|X - a|]$, a change in variable from $a$ to $a + \\Delta a$ will increase the result by\n",
    "\n",
    "$$ g(a + \\Delta a) - g(a) = \\int_a^{a + \\Delta a} F_X^c(x) - F_X(x) \\; dx $$\n",
    "\n",
    "while a change in variable from $a$ to $\\Delta a$ will increase the result by\n",
    "\n",
    "$$ g(a - \\Delta a) - g(a) = \\int_{a - \\Delta a}^a F_X(x) - F_X^c(x) \\; dx $$\n",
    "\n",
    "Therefore, if $F_X(\\alpha) = \\text{Pr}\\{X \\leq \\alpha\\} > 1/2$, we have $F_X^c(\\alpha) < 1/2$, and the value of $g(a)$ can be reduced by shifting $a$ down.  Similarly, if $F_X^c(\\alpha) = \\text{Pr}\\{X \\leq \\alpha\\} > 1/2$, we have $F_X(\\alpha) < 1/2$, and we can reduce the value of $g(a)$ by shifting $a$ up.  This minimization step is only not possible if\n",
    "\n",
    "$$ \\text{Pr}\\{X \\leq \\alpha\\} \\geq 1/2, \\quad \\text{Pr}\\{X \\leq \\alpha\\} \\geq 1/2 $$\n",
    "\n",
    "which is to say, if $\\alpha$ lies in the median interval.  Therefore the minimum value for $g$ is obtained at the median interval."
   ]
  },
  {
   "cell_type": "markdown",
   "metadata": {},
   "source": [
    "**Exercise 1.12**.  Let $X$ be a random variable with CDF $F_X(x)$.  Find the CDF of the following random variables:\n",
    "\n",
    "**(a)** The maximum of $n$ IID random variables, each with CDF $F_X(x)$.\n",
    "\n",
    "**(b)** The minimum of $n$ IID random variables, each with CDF $F_X(x)$.\n",
    "\n",
    "**(c)** The difference of the random variables defined in (a) and (b); assume $X$ has a density $f_X(x)$.  Hint:  Let $M_+$ and $M_-$ be the maximum and minimum respectively of the $X_i$.  First, conditional on $X_1 = x$, find the joint probability that $X_1 = M_+$ and $M_+ - M_- \\leq r$."
   ]
  },
  {
   "cell_type": "markdown",
   "metadata": {},
   "source": [
    "**Solution**."
   ]
  },
  {
   "cell_type": "markdown",
   "metadata": {},
   "source": [
    "**(a)**.  Let $A_n = \\max \\{ X_1, X_2, \\dots, X_n \\}$, where $X_i \\sim F_X$ and the $X_i$'s are IID.  Then:\n",
    "\n",
    "$$ F_{A_n}(x) = \\text{Pr}\\{ A_n \\leq x \\} = \\prod_{i=1}^n \\text{Pr} \\{ X_i \\leq x \\} = \\prod_{i=1}^n F_X(x) = F_X(x)^n $$"
   ]
  },
  {
   "cell_type": "markdown",
   "metadata": {},
   "source": [
    "**(b)**  Let $B_n = \\min \\{ X_1, X_2, \\dots, X_n \\}$, where $X_i \\sim F_X$ and the $X_i$'s are IID.  Then:\n",
    "\n",
    "$$ F^c_{B_n}(x) = \\text{Pr}\\{ B_n > x \\} = \\prod_{i=1}^n \\text{Pr}\\{ X_i > x \\} = \\prod_{i=1}^n F_X^c(x) = (1 - F_X(x))^n $$\n",
    "\n",
    "and so\n",
    "\n",
    "$$ F_{B_n}(x) = 1 - (1 - F_X(x))^n $$"
   ]
  },
  {
   "cell_type": "markdown",
   "metadata": {},
   "source": [
    "**(c)**  Let $C_n = A_n - B_n$, as defined in (a) and (b):  $A_n = \\max \\{ X_1, X_2, \\dots, X_n \\}$, $B_n = \\min \\{ X_1, X_2, \\dots, X_n \\}$, where $X_i \\sim F_X$ and the $X_i$'s are IID.\n",
    "\n",
    "Conditional on $X_1 = x$, the joint probability that $X_1 = A_n$ and $A_n - B_n \\leq r$ is:\n",
    "\n",
    "$$ \n",
    "\\begin{align}\n",
    "\\text{Pr}\\{ X_1 = A_n, A_n - B_n \\leq r | X_1 = x \\}  &= \\text{Pr}\\{ (X_i \\leq x \\text{ for } i = 2, \\dots, n),  B_n \\leq x + r\\} \\\\\n",
    "&= F_X(x)^{n - 1} F_{B_n}(x + r) \\\\\n",
    "&= F_X(x)^{n-1}(1 - (1 - F_X(x + r))^n\n",
    "\\end{align}\n",
    "$$\n",
    "\n",
    "We can then integrate this over the density of $X_1$ to \"remove\" the conditional clause:\n",
    "\n",
    "$$\n",
    "\\begin{align}\n",
    "\\text{Pr}\\{ X_1 = A_n, A_n - B_n \\leq r\\} &= \\int \\text{Pr}\\{ X_1 = A_n, A_n - B_n \\leq r | X_1 = x \\} f_X(x) dx \\\\\n",
    "&= \\int F_X(x)^{n-1}(1 - (1 - F_X(x + r))^n f_X(x) dx\n",
    "\\end{align}\n",
    "$$\n",
    "\n",
    "Finally, we can obtain the CDF for $C_n = A_n - B_n$ by partitioning the event on the $n$ events for which $X_i = A_n$, $1 \\leq i \\leq n$:\n",
    "\n",
    "$$\n",
    "\\begin{align}\n",
    "F_{C_n}(r) = \\text{Pr}\\{A_n - B_n \\leq r \\} &= \\sum_{i=1}^n \\text{Pr}\\{ X_i = A_n, A_n - B_n \\leq r\\} \\\\\n",
    "&= n \\; \\text{Pr}\\{ X_1 = A_n, A_n - B_n \\leq r\\} \\\\\n",
    "&= \\int n F_X(x)^{n-1}(1 - (1 - F_X(x + r))^n f_X(x) dx\n",
    "\\end{align}\n",
    "$$"
   ]
  },
  {
   "cell_type": "markdown",
   "metadata": {},
   "source": [
    "**Exercise 1.13**.  Let $X$ and $Y$ be random variables in some sample space $\\Omega$ and let $Z = X + Y$, i.e., for each $\\omega \\in \\Omega$, $Z(\\omega) = X(\\omega) + Y(\\omega)$.\n",
    "\n",
    "**(a)** Show that the set of $\\omega$ for which $Z(\\omega) = \\pm \\infty$ has probability 0.\n",
    "\n",
    "**(b)** To show that $Z = X + Y$ is a random variable, we must show that for each real number $\\alpha$, the set $\\{ \\omega \\in \\Omega : X(\\omega) + Y(\\omega) \\leq \\alpha \\}$ is an event.  We proceed indirectly.  For an arbitrary positive integer $n$ and an arbitrary integer $k > 0$, let $B(n, k) = \\{ \\omega : X(\\omega) < k / n \\} \\cap \\{ Y(\\omega) \\leq \\alpha + (1 - k)/n \\}$.  Let $D(n) = \\cup_k B(n, k)$ and show that $D(n)$ is an event.\n",
    "\n",
    "**(c)** On a two-dimensional sketch for a given $\\alpha$, show the values of $X(\\omega)$ and $Y(\\omega)$ for which $\\omega \\in D(n)$.  Hint:  This set of values should be bounded by a staircase function.\n",
    "\n",
    "**(d)** Show that\n",
    "\n",
    "$$ \\{ \\omega: X(\\omega) + Y(\\omega) \\leq \\alpha \\} = \\cap_n D(n) $$\n",
    "\n",
    "Explain why this shows that $Z = X + Y$ is a random variable.\n",
    "\n",
    "**(e)** Explain why (d) implies that if $Y = X_1 + X_2 + \\cdots + X_n$ and if $X_1, X_2, \\dots, X_n$ are random variables, then $Y$ is a random variable.  Hint: only one or two lines of explanation are needed."
   ]
  },
  {
   "cell_type": "markdown",
   "metadata": {},
   "source": [
    "**Solution**."
   ]
  },
  {
   "cell_type": "markdown",
   "metadata": {},
   "source": [
    "**(a)**  By construction, if there is a $\\omega$ for which $Z(\\omega) = \\pm \\infty$, then $X(\\omega) = \\pm \\infty$ or $Y(\\omega) = \\pm \\infty$.  But since $X$ and $Y$ are random variables, the probability of such events is 0, and so the probability of the union of these events must be zero, therefore $\\text{Pr}\\{Z = \\pm \\infty\\} = 0$."
   ]
  },
  {
   "cell_type": "markdown",
   "metadata": {},
   "source": [
    "**(b)**  \n",
    "\n",
    "1.  Since $X$ is a random variable, $B_X(n, k) = \\{ \\omega : X(\\omega) < k/n \\}$ must be an event.\n",
    "2.  Since $Y$ is a random variable, $B_Y(n, k) = \\{ \\omega : Y(\\omega) < \\alpha + (1 - k)/n \\}$ must be an event.  \n",
    "3.  Since $B_X(n, k)$ and $B_Y(n, k)$ are events, their intersection $B(n, k)$ must be an event.  In general, if $A$ and $B$ are events, their intersection must be an event:\n",
    "    - Their complements $A^c$, $B^c$ must be events (axiom of events #3)\n",
    "    - The union of their complements must be an event, $A^c \\cup B^c$ (axiom of events #2)\n",
    "    - The complement of their intersection must be an event, $(A \\cap B)^c = A^c \\cup B^c$ (De Morgan)\n",
    "    - The complement of the complement of their intersection, or just their intersection, must be an event (axiom of events #3):  $((A \\cap B)^c)^c = A \\cap B$\n",
    "    \n",
    "4.  Since each $B(n, k)$ is an event, their union $D(n) = \\cup_k B(n, k)$ must be an event (axiom of events #2)."
   ]
  },
  {
   "cell_type": "markdown",
   "metadata": {},
   "source": [
    "**(c)**"
   ]
  },
  {
   "cell_type": "code",
   "execution_count": 1,
   "metadata": {},
   "outputs": [
    {
     "data": {
      "image/png": "[encoded data removed]",
      "text/plain": [
       "<Figure size 864x576 with 1 Axes>"
      ]
     },
     "metadata": {
      "needs_background": "light"
     },
     "output_type": "display_data"
    }
   ],
   "source": [
    "import numpy as np\n",
    "import matplotlib.pyplot as plt\n",
    "%matplotlib inline\n",
    "\n",
    "alpha = 0.3\n",
    "n = 10\n",
    "\n",
    "plt.figure(figsize=(12, 8))\n",
    "\n",
    "neg_infty = -1\n",
    "\n",
    "for k in np.arange(1, n+4, step=1):\n",
    "    x = [neg_infty, k/n, k/n, neg_infty]\n",
    "    y = [neg_infty, neg_infty, alpha + (1-k)/n, alpha + (1-k)/n]\n",
    "    plt.fill(x, y, alpha=0.5)\n",
    "    \n",
    "plt.xlabel(r'$X(\\omega)$')\n",
    "plt.ylabel(r'$Y(\\omega)$')\n",
    "plt.show()"
   ]
  },
  {
   "cell_type": "markdown",
   "metadata": {},
   "source": [
    "**(d)**\n",
    "\n",
    "We have:\n",
    "\n",
    "$$ \n",
    "\\begin{align}\n",
    "&\\omega \\in \\cap_n D(n)  \\\\\n",
    "\\Longleftrightarrow\\;& \\forall n \\; \\omega \\in D(n) \\\\\n",
    "\\Longleftrightarrow\\;& \\forall n \\; \\exists k \\text{ s.t. } \\omega \\in B(n, k) \\\\\n",
    "\\Longleftrightarrow\\;& \\forall n \\; \\exists k \\text{ s.t. } X(\\omega) < k/n, Y(\\omega) < \\alpha + (1 - k)/n \\\\\n",
    "\\Longrightarrow\\;& \\forall n \\; \\exists k \\text{ s.t. } X(\\omega) + Y(\\omega) < \\alpha \\\\\n",
    "\\Longrightarrow\\;& \\omega \\in \\{ \\omega : X(\\omega) + Y(\\omega) < \\alpha \\}\n",
    "\\end{align}\n",
    "$$\n",
    "\n",
    "and so $$ \\cap_n D(n) \\subseteq \\{ \\omega : X(\\omega) + Y(\\omega) < \\alpha \\} $$\n",
    "\n",
    "In the other direction, note that for any given positive integer $n$ and any $\\omega$, if we pick a positive integer $k > \\max \\{ \\lceil n X(\\omega) \\rceil, 1\\}$, then $X(\\omega) < k / n$.  So:\n",
    "\n",
    "$$\n",
    "\\begin{align}\n",
    "&\\omega \\in \\{ \\omega : X(\\omega) + Y(\\omega) < \\alpha \\} \\land \\forall n \\; \\exists k \\text{ s.t. } X(\\omega) < n/k \\\\\n",
    "\\Longrightarrow\\;& \\forall n \\; \\exists k \\text{ s.t. } X(\\omega) < k/n, Y(\\omega) < \\alpha + (1 - k)/n \\\\\n",
    "\\Longleftrightarrow\\;& \\forall n \\; \\exists k \\text{ s.t. } \\omega \\in B(n, k) \\\\\n",
    "\\Longleftrightarrow\\;& \\forall n \\; \\omega \\in D(n) \\\\\n",
    "\\Longleftrightarrow\\;& \\omega \\in \\cap_n D(n)  \\\\\n",
    "\\end{align}\n",
    "$$\n",
    "\n",
    "and so $$ \\cap_n D(n) \\supseteq \\{ \\omega : X(\\omega) + Y(\\omega) < \\alpha \\} $$\n",
    "\n",
    "Given we proven that $\\cap_n D(n)$ is both a subset and a superset of $\\{ \\omega : X(\\omega) + Y(\\omega) < \\alpha \\}$, we get the desired result,\n",
    "\n",
    "$$ \\cap_n D(n) = \\{ \\omega : X(\\omega) + Y(\\omega) < \\alpha \\} $$\n",
    "\n",
    "Since each $D(n)$ is an event, then by the axiom of events #2 and De Morgan's statement their intersection $\\cap_n D(n)$ is also an event.  This means that $ \\{ \\omega : X(\\omega) + Y(\\omega) < \\alpha \\} = \\{ \\omega : Z(\\omega) < \\alpha \\}$ is also an event.  Since we can do this construction for any $\\alpha$, then $Z$ satisfies the second property of random variables.  The first property was proved in (a), and the third property follows from the axiom of event #2 -- therefore $Z$ is a random variable."
   ]
  },
  {
   "cell_type": "markdown",
   "metadata": {},
   "source": [
    "**(e)**  The result follows from induction on the number of variables -- if $Y_n = X_1 + \\cdots + X_n$ is a random variable, then $Y_{n + 1} = Y_n + X_{n+1}$ is a sum of random variables, and by (d) is also a random variable."
   ]
  },
  {
   "cell_type": "markdown",
   "metadata": {},
   "source": [
    "**Exercise 1.14**.\n",
    "\n",
    "**(a)** Let $X_1, X_2, \\dots, X_n$ be random variables with expected values $\\overline{X}_1, \\dots, \\overline{X}_n$.  Show that $\\text{E}[X_1 + \\cdots + X_n] = \\overline{X}_1 + \\cdots + \\overline{X}_n$.  You may assume the random variables have a joint density function, but do not assume that the random variables are independent.\n",
    "\n",
    "**(b)** Now assume that $X_1, \\dots, X_n$ are statistically independent and show that the expected value of the product is equal to the product of the expected values.\n",
    "\n",
    "**(c)** Again assuming that $X_1, \\dots, X_n$ are statistically independent, show that the variance of the sum is equal to the sum of variances."
   ]
  },
  {
   "cell_type": "markdown",
   "metadata": {},
   "source": [
    "**Solution**."
   ]
  },
  {
   "cell_type": "markdown",
   "metadata": {},
   "source": [
    "**(a)**.  Assuming a joint density function $f(x_1, \\dots, x_n)$, and marginal density functions $f_{X_i}(x_i)$, we have:\n",
    "\n",
    "$$ \n",
    "\\begin{align}\n",
    "\\text{E}\\left[ \\sum_{i=1}^n X_i \\right] &= \\int_{X_1} \\int_{X_2} \\cdots \\int_{X_n} \\sum_{i=1}^n x_i f(x_1, \\dots, x_i) dx_1 \\dots dx_n \\\\\n",
    "&= \\sum_{i=1}^n \\int_{X_1} \\int_{X_2} \\cdots \\int_{X_n} x_i f(x_1, \\dots, x_i) dx_1 \\dots dx_n \\\\\n",
    "&= \\sum_{i=1}^n \\int_{X_i} x_i f_{X_i}(x_i) dx_i \\\\\n",
    "&= \\sum_{i=1}^n \\overline{X}_i\n",
    "\\end{align}\n",
    "$$"
   ]
  },
  {
   "cell_type": "markdown",
   "metadata": {},
   "source": [
    "**(b)**  Statistical independence implies that we can multiply the marginal density functions to obtain the joint density function,\n",
    "\n",
    "$$ f(x_1, \\dots, x_i) = \\prod_{i=1}^n f_{X_i}(x_i) $$\n",
    "\n",
    "Then, we have:\n",
    "\n",
    "$$ \n",
    "\\begin{align}\n",
    "\\text{E}\\left[ \\prod_{i=1}^n X_i \\right] &= \\int_{X_1} \\int_{X_2} \\cdots \\int_{X_n} \\left(\\prod_{i=1}^n x_i\\right) f(x_1, \\dots, x_i) dx_1 \\dots dx_n \\\\\n",
    "&= \\int_{X_1} \\int_{X_2} \\cdots \\int_{X_n} \\left(\\prod_{i=1}^n x_i f_{X_i}(x_i) \\right) dx_1 \\dots dx_n \\\\\n",
    "&= \\prod_{i=1}^n \\int_{X_i} x_i f_{X_i}(x_i) dx_i \\\\\n",
    "&= \\prod_{i=1}^n \\overline{X}_i\n",
    "\\end{align}\n",
    "$$"
   ]
  },
  {
   "cell_type": "markdown",
   "metadata": {},
   "source": [
    "**(c)**  We have:\n",
    "\n",
    "$$\n",
    "\\begin{align}\n",
    "\\text{Var}\\left[ \\sum_{i=1}^n X_i \\right] &= \\text{E}\\left[ \\left(\\sum_{i=1}^n X_i \\right)^2\\right] - \\text{E}\\left[ \\sum_{i=1}^n X_i \\right]^2 \\\\\n",
    "&= \\text{E}\\left[ \\sum_{i=1}^n X_i^2 + \\sum_{i=1}^n \\sum_{j=1; j \\neq i}^n X_i X_j \\right] - \\left( \\sum_{i=1}^n \\text{E}[X_i] \\right)^2 \\\\\n",
    "&= \\sum_{i=1}^n \\text{E}[X_i^2] + \\sum_{i=1}^n \\sum_{j=1; j \\neq i}^n \\text{E}[X_i X_j] -  \\sum_{i=1}^n \\text{E}[X_i]^2 - \\sum_{i=1}^n \\sum_{j=1; j \\neq i}^n \\text{E}[X_i] \\text{E}[X_j] \\\\\n",
    "&= \\sum_{i=1}^n \\text{E}[X_i^2] - E[X_i]^2 \\\\\n",
    "&= \\sum_{i=1}^n \\text{Var}[X_i]\n",
    "\\end{align}\n",
    "$$\n",
    "\n",
    "where we used the fact that statistical independence implies $\\text{E}[X_i X_j] = \\text{E}[X_i] \\text{E}[X_j]$ for $i \\neq j$."
   ]
  },
  {
   "cell_type": "markdown",
   "metadata": {},
   "source": [
    "**Exercise 1.15  (Stieltjes integration)**.  \n",
    "\n",
    "**(a)**  Let $h(x) = u(x)$ and $F_X(x) = u(x)$, where $u(x)$ is the unit step, i.e. $u(x) = 0$ for $-\\infty < x < 0$ and $u(x) = 1$ for $x \\geq 0$.  Using the definition of the Stieltjes integral in Footnote 19 on p. 23, show that $\\int_{-1}^1 h(x) dF_X(x)$ does not exist.  Hint: Look at the term in the Riemann sum including $x = 0$ and look at the range of choices for $h(x)$ in that interval.  Intuitively, it might help initially to view $dF_X(x)$ as a unit impulse at $x = 0$.\n",
    "\n",
    "**(b)**  Let $h(x) = u(x - a)$ and $F_X(x) = u(x - b)$, where $a$ and $b$ are in $(-1, +1)$.  Show that $\\int_{-1}^1 h(x) dF_X(x)$ exists if and only if $a \\neq b$.  Show that the integral has the value 1 for $a < b$ and value 0 for $a > b$.  Argue that this result is still valid in the limit of integration over $(-\\infty, \\infty)$.\n",
    "\n",
    "**(c)**  Let $X, Y$ be independent discrete random variables, each with a finite set of possible values.  Show that $\\int_{-\\infty}^\\infty F_X(z - y) dF_Y(y)$, defined as a Stieltjes integral, is equal to the distribution of $Z = X + Y$ at each $z$ other than the possible sample values of $Z$, and is undefined at each sample value of $Z$.  Hint:  Express $F_X$ and $F_Y$ as sums of unit steps.  Note: This failure of Stieltjes integration is not a serious problem;  $F_Z(z)$ is a step function, and the integral is undefined at its points of discontinuity.  We automatically define $F_Z(z)$ at those step values so that $F_Z$ is a CDF (i.e. is continuous from the right).  This problem does not arise if either $X$ or $Y$ is continuous."
   ]
  },
  {
   "cell_type": "markdown",
   "metadata": {},
   "source": [
    "**Solution**.\n",
    "\n",
    "The Riemann-Stieltjes integral, abbreviated here as the Stieltjes integral, is denoted as $\\int_a^b h(x) dF_X(x)$.  It is defined as the limit of a generalized Riemman sum, $ \\lim_{\\delta \\rightarrow 0} \\sum_n h(x_n) [F(y_n) - F(y_{n-1})] $, where $\\{y_n : n \\geq 1\\}$ is a sequence of increasing numbers from $a$ to $b$ satisfying $y_n - y_{n-1} \\leq \\delta$ and $y_{n-1} < x_n \\leq y_n$ for all $n$.  The Stieltjes integral is defined to exist over finite limits if the limit exists and is independent of the choices of $\\{ y_n \\}$ and $\\{ x_n \\}$ as $\\delta \\rightarrow 0$.  It exists over infinite limits if it exists over finite lengths and a limit over the integration limits can be taken."
   ]
  },
  {
   "cell_type": "markdown",
   "metadata": {},
   "source": [
    "**(a)** We are interested in the limit of\n",
    "\n",
    "$$ \\lim_{\\delta \\rightarrow 0} S(x, y) \\quad \\text{where } S(x, y) = \\sum_n u(x_n) [u(y_n) - u(y_{n - 1})] $$\n",
    "\n",
    "Since $u$ is the unit step, the term $[u(y_n) - u(y_{n - 1})]$ is 1 if $y_{n-1} < 0 \\leq y_n$ and 0 otherwise.  Therefore, only one term in the sum is non-zero; the one corresponding to the first $n$ such that $y_{n-1} < 0 \\leq y_n$.  But we can choose the series $\\{ x_n \\}$ to force that value to be 0 or 1:\n",
    "\n",
    "- If $y_n = 4n\\delta - 1, x_n = y_n$, then $ [u(y_n) - u(y_{n - 1})] = 1 $ if and only if $y_{n-1} < 0 \\leq y_n$, or $\\frac{1}{4 \\delta} < n \\leq \\frac{1}{4 \\delta} + 1$, which for sufficiently small $\\delta$ implies $n = \\lfloor \\frac{1}{4 \\delta} + 1 \\rfloor$.  But then $x_n = y_n = 4 \\lfloor \\frac{1}{4 \\delta} + 1 \\rfloor \\delta - 1 \\geq 0$, and so $S(x, y) = u(x_n) = 1$.\n",
    "\n",
    "- If $y_n = 4n\\delta - 1, x_n = \\frac{1}{2}(y_n + y_{n-1})$, again the only non-zero term occurs (with sufficiently small $\\delta$) for $n = \\lfloor \\frac{1}{4 \\delta} + 1 \\rfloor$, but now we have $x_n < 0$, and so $S(x, y) = u(x_n) = 0$.\n",
    "\n",
    "Since we can construct sequences $x, y$ such that $S(x, y)$ take value 0 or take value 1 for any sufficiently small $\\delta$, the limit is not defined, and so the Stieltjes integral does not exist."
   ]
  },
  {
   "cell_type": "markdown",
   "metadata": {},
   "source": [
    "**(b)**  If $a = b$, we can shift the integration variable $x$ to $y - a$.  By a result analogous to (a) (shifting all of the $x, y$ variable series by $a$), again we have that the Stieltjes integral does not exist.\n",
    "\n",
    "If $a < b$, then the only non-zero term in $S(x, y)$ occurs with $F(y_n) - F(y_{n-1}) = 1$, or $y_{n-1} < b \\leq y_n$.  For a sufficiently small $\\delta$, this implies $y_{n-1} > a$, so $x_n > a$ and so $h(x_n) = u(x_n - a) = 1$, and the sum $S(x, y)$ is always 1 -- therefore the Stieltjes integral exists and has value 1.\n",
    "\n",
    "If $a > b$, then the only non-zero term in $S(x, y)$ occurs with $F(y_n) - F(y_{n - 1}) = 1$, or $y_{n - 1} < b \\leq y_n$.  For a sufficiently small $\\delta$, this implies $y_n < a$, so $x_n < a$ and so $h(x_n) = u(x_n - a) = 0$, and the sum $S(x, y)$ is always 0 -- therefore the Stieltjes integral exists and has value 0.\n",
    "\n",
    "This result is still valid in the limit of integration over $(-\\infty, \\infty)$ -- there is nothing special about the interval $(-1, +1)$ other than it being a finite interval, and we could define a new sum over sequences $(x', y')$ that gradually stretch the bounds from $(-1, 1)$ to $(-\\infty, \\infty)$ at a rate slower than $\\delta$.  Since the results obtained so far would also hold for these stretched intervals, the result will also hold in the limit of integration over $(-\\infty, \\infty)."
   ]
  },
  {
   "cell_type": "markdown",
   "metadata": {},
   "source": [
    "**(c)**  As suggested, we can decompose the CDF of a random variables $X$ with a finite number of discrete values into sums of unit steps at each of its possible values:\n",
    "\n",
    "$$ F_X(x) = \\sum_{i: \\text{Pr}\\{X = \\alpha_i\\} > 0} u(x - \\alpha_i) \\; \\text{Pr}\\{X = \\alpha_i\\} $$\n",
    "\n",
    "or, for simplicity,\n",
    "\n",
    "$$ \n",
    "F_X(x) = \\sum_i u(x - \\alpha_i) p_i\n",
    "\\quad\n",
    "F_Y(y) = \\sum_j u(y - \\beta_j) q_j\n",
    "$$\n",
    "\n",
    "The Stieltjes integral (if it exists) can then have their sums decomposed into Stieltjes integrals of unit steps:\n",
    "\n",
    "$$ \n",
    "\\begin{align}\n",
    "\\int_{-\\infty}^\\infty F_X(z - y) d F_Y(y) &= \\lim_{\\delta \\rightarrow 0} \\sum_n F_X(x_n) [F_Y(y_n) - F_Y(y_{n-1})] \\\\\n",
    "&= \\lim_{\\delta \\rightarrow 0} \\sum_n \\left( \\left[ \\sum_i u(x_n - \\alpha_i) p_i \\right] \\left[ \\sum_j (u(y_n - \\beta_j) - u(y_{n-1} - \\beta_j) ) q_j \\right] \\right) \\\\\n",
    "&= \\lim_{\\delta \\rightarrow 0} \\sum_i \\sum_j \\sum_n p_i q_j u(x_n - \\alpha_i) [u(y_n - \\beta_j) - u(y_{n-1} - \\beta_j)] \\\\\n",
    "&= \\sum_i \\sum_j \\lim_{\\delta \\rightarrow 0} p_i q_j u(x_n - \\alpha_i) [u(y_n - \\beta_j) - u(y_{n-1} - \\beta_j)] \\\\\n",
    "&= \\sum_i \\sum_j p_i q_j \\int_{-\\infty}^\\infty u(z - y - \\alpha_i) du(y - \\beta_j)\n",
    "\\end{align}\n",
    "$$\n",
    "\n",
    "where we have used the fact that, if the integral exists, we can use any sequence of $x, y$ values to compute the limit.\n",
    "\n",
    "If $z$ takes any of the values where there is a unit step, the Stieltjes integral corresponding to that unit step does not exist and all others do, so the overall integral does not exist.  If $z$ does not take one of these values, all Stieltjes integral terms exist, and so the main Stieltjes integral also exists.  Finally, again by construction, the integral takes the value of $F_Z(z)$ wherever it exists, since it corresponds to a sum of probabilities $p_i, q_j$ where $\\alpha_i + \\beta_j \\leq z$."
   ]
  },
  {
   "cell_type": "markdown",
   "metadata": {},
   "source": [
    "**Exercise 1.16**.  Let $X_1, X_2, \\dots, X_n$ be a sequence of IID continuous random variables with the common PDF $f_X(x)$; note that $\\text{Pr}\\{X = \\alpha\\} = 0$ for all $\\alpha$ and that $\\text{Pr}\\{ X_i = X_j \\} = 0$ for all $i \\neq j$.  For $n \\geq 2$, define $X_n$ as a *record-to-date* of the sequence if $X_n > X_i$ for all $i < n$.\n",
    "\n",
    "**(a)** Find the probability that $X_2$ is a record-to-date.  Use symmetry to obtain a numerical answer without computation.  A one- or two-line explanation should be adequate.\n",
    "\n",
    "**(b)** Find the probability that $X_n$ is a record-to-date, as a function of $n \\geq 1$.  Again use symmetry.\n",
    "\n",
    "**(c)** Find a simple expression for the expected number of records-to-date that occur over the first $m$ trials for any given integer $m$.  Hint:  Use indicator functions.  Show that this expected number is infinite given the limit $m \\rightarrow \\infty$."
   ]
  },
  {
   "cell_type": "markdown",
   "metadata": {},
   "source": [
    "**Solution**."
   ]
  },
  {
   "cell_type": "markdown",
   "metadata": {},
   "source": [
    "**(a)**  By symmetry, $\\text{Pr}\\{X_2 > X_1\\} = \\text{Pr}\\{X_2 < X_1\\} = 1/2$."
   ]
  },
  {
   "cell_type": "markdown",
   "metadata": {},
   "source": [
    "**(b)** By symmetry, $\\text{Pr}\\{X_i = \\max\\{X_1, \\dots, X_n\\}\\}$ assumes the same value for all $1 \\leq i \\leq n$, so the probability that $X_n$ is a record-to-date is $1/n$."
   ]
  },
  {
   "cell_type": "markdown",
   "metadata": {},
   "source": [
    "**(c)**  The expected number of records-to-date is:\n",
    "\n",
    "$$ \\text{E}\\left[ \\sum_{i=2}^m I(X_i \\text{ is record-to-date}) \\right] = \\sum_{i=2}^m \\text{E}[I(X_i \\text{ is record-to-date})] = \\sum_{i=2}^m\\text{Pr}\\{ X_i \\text{ is record-to-date} \\} = \\sum_{i=1}^m \\frac{1}{m} - 1 = H_m - 1$$\n",
    "\n",
    "that is, the expected number of records-to-date is the $m$-th value of the harmonic series minus 1.  The harmonic series is known to diverge; one intuitive proof is to round down terms to inverse powers of 2.  Note that\n",
    "\n",
    "$$ \n",
    "\\begin{align}\n",
    "H_{2^m} &= \\sum_{i=1}^{2^m} \\frac{1}{i} \\geq \\sum_{i=1}^{2^m} \\frac{1}{2^{\\lfloor \\log_2 i \\rfloor}} \\\\\n",
    "&\\geq 1 + 2 \\frac{1}{2} + 4 \\frac{1}{4} + \\cdots + 2^{m - 2} \\frac{1}{2^{m - 2}} \\\\\n",
    "&= m - 1\n",
    "\\end{align}\n",
    "$$\n",
    "\n",
    "so terms in the series can be made arbitrarily large (if very slowly)."
   ]
  },
  {
   "cell_type": "markdown",
   "metadata": {},
   "source": [
    "**Exercise 1.17 (Continuation of Exercise 1.16)**.  \n",
    "\n",
    "**(a)** Let $N_1$ be the index of the **first** record-to-date in the sequence.  Find $\\text{Pr}\\{N_1 > n\\}$ for each $n \\geq 2$.  Hint:  There is a far simpler way to do this than working from Exercise 1.16(b).\n",
    "\n",
    "**(b)** Show that $N_1$ is a random variable.\n",
    "\n",
    "**(c)** Show that $\\text{E}[N_1] = \\infty$.\n",
    "\n",
    "**(d)** Let $N_2$ be the index of the **second** record-to-date in the sequence.  Show that $N_2$ is a random variable.  Hint:  You need not find the CDF of $N_2$ here.\n",
    "\n",
    "**(e)** Contrast your result in (c) to the result of Exercise 1.16(c) saying that the expected number of records-to-date is infinite over an infinite number of trials.  Note:  This should be a shock to your intuition -- there is an infinite expected wait for the first of an infinite sequence of occurrences, each of which must eventually occur."
   ]
  },
  {
   "cell_type": "markdown",
   "metadata": {},
   "source": [
    "**Solution**."
   ]
  },
  {
   "cell_type": "markdown",
   "metadata": {},
   "source": [
    "**(a)** In the events where $N_1 > n$, then the first sample $X_1$ is the largest sample in the first $n$ samples, $X_1 = \\max \\{ X_1, \\dots, X_n \\}$.  This occurs with probability $1 / n$, so\n",
    "\n",
    "$$ \\text{Pr}\\{N_1 > n\\} = \\frac{1}{n} $$"
   ]
  },
  {
   "cell_type": "markdown",
   "metadata": {},
   "source": [
    "**(b)**  From part (a), \n",
    "\n",
    "$$ \\text{Pr}\\{ N_1 \\leq n \\} = 1 - \\frac{1}{n} \\quad \\text{for integer } n \\geq 2 $$\n",
    "\n",
    "$N_1$ only assumes integer values greater than or equal to 2, so\n",
    "\n",
    "$$ \\text{Pr}\\{ N_1 \\leq \\alpha \\} = \\begin{cases}\n",
    "0 &\\text{if } \\alpha < 2 \\\\\n",
    "1 - \\frac{1}{\\lfloor \\alpha \\rfloor} &\\text{otherwise}\n",
    "\\end{cases} $$\n",
    "\n",
    "Therefore $N_1$ has corresponding events $\\{ \\omega: N(\\omega) \\leq \\alpha \\}$ for all $\\alpha$, and is a random variable."
   ]
  },
  {
   "cell_type": "markdown",
   "metadata": {},
   "source": [
    "**(c)**  The expectation of $N_1$ can be represented as a sum over every possible value:\n",
    "\n",
    "$$\n",
    "\\begin{align}\n",
    "\\text{E}[N_1] &= \\sum_{n=2}^\\infty n \\;\\text{Pr}\\{N_1 = n\\} \\\\\n",
    "&= \\sum_{n=2}^\\infty n \\left( \\text{Pr}\\{ N_1 \\leq n \\} - \\text{Pr}\\{ N_1 \\leq n - 1 \\} \\right)  \\\\\n",
    "&\\geq \\sum_{n=3}^\\infty n \\left( \\frac{1}{n} - \\frac{1}{n - 1} \\right)  \\\\\n",
    "&= \\sum_{n=2}^\\infty \\frac{1}{n}\n",
    "\\end{align}\n",
    "$$\n",
    "\n",
    "which is the harmonic series (without the first term), and it diverges, so\n",
    "\n",
    "$$ \\text{E}[N_1] = \\infty $$"
   ]
  },
  {
   "cell_type": "markdown",
   "metadata": {},
   "source": [
    "**(d)**  In the events where $N_2 > n$, then there is a $i$ such that $X_i$ is the largest sample in the first $n$ samples and $X_1$ is the second largest sample.  Therefore $N_2 > n$ is an event with an associated probability, and its complement $N_2 \\leq n$ is also an event with associated probability -- so $N_2$ is a random variable."
   ]
  },
  {
   "cell_type": "markdown",
   "metadata": {},
   "source": [
    "**(e)**  The contrast is that the expected wait time is infinite, but the expected number of events is *also* infinite.  This contradicts a potential intuition that waiting for an event for an infinite expected time would imply a bound on the expected number of events; an infinite number of events can, in fact, be separated by intervals with infinite expected value."
   ]
  },
  {
   "cell_type": "markdown",
   "metadata": {},
   "source": [
    "**Exercise 1.18 (Another direction from Exercise 1.16)**\n",
    "\n",
    "**(a)** For any given $n \\geq 2$, find the probability that $X_n$ and $X_{n+1}$ are both records-to-date.  Hint:  The idea in Exercise 1.16(b) is helpful here, but the result is not.\n",
    "\n",
    "**(b)** Is the event that $X_n$ is a record-to-date statistically independent of the event that $X_{n+1}$ is a record to date?\n",
    "\n",
    "**(c)** Find the expected number of adjacent pairs of records-to-date over the sequence $X_1, X_2, \\dots$.  Hint:  A helpful fact here is that $1 / (n(n+1)) = 1/n - 1/(n+1)$."
   ]
  },
  {
   "cell_type": "markdown",
   "metadata": {},
   "source": [
    "**Solution**."
   ]
  },
  {
   "cell_type": "markdown",
   "metadata": {},
   "source": [
    "**(a)** By symmetry, the probability that the two largest values in the $n+1$ elements $X_1, \\dots, X_{n+1}$ are in two indexes $a$, $b$ is the same for any choice of $a$, $b$:\n",
    "\n",
    "$$ \\text{Pr}\\left\\{ X_a, X_b > X_i \\text{ for all } i\\right\\} = c $$\n",
    "\n",
    "There are $(n+1)n$ such choices, so the desired probability is $1 / n(n+1)$."
   ]
  },
  {
   "cell_type": "markdown",
   "metadata": {},
   "source": [
    "**(b)**  The events are statistically independent, since\n",
    "\n",
    "$$ \\text{Pr}\\{ X_n, X_{n + 1} \\text{ are records-to-date} \\} = \\text{Pr}\\{ X_n \\text{ is a record-to-date}\\} \\text{Pr}\\{ X_{n+1} \\text{ is a record-to-date}\\} = \\frac{1}{n(n+1)}$$"
   ]
  },
  {
   "cell_type": "markdown",
   "metadata": {},
   "source": [
    "**(c)** The expected number of adjacent pairs of records-to-date in the first $m$ samples is\n",
    "\n",
    "$$ \n",
    "\\begin{align}\n",
    "\\text{E}\\left[ \\sum_{i=2}^m I(X_i, X_{i+1} \\text{ are records-to-date}) \\right] &= \\sum_{i=2}^m \\text{E}[I(X_i, X_{i+1} \\text{ are records-to-date})] \\\\\n",
    "&= \\sum_{i=2}^m\\text{Pr}\\{ X_i, X_{i+1} \\text{ are records-to-date} \\}  \\\\\n",
    "&= \\sum_{i=2}^m \\frac{1}{i(i+1)} \\\\\n",
    "&= \\sum_{i=2}^m \\frac{1}{i} - \\frac{1}{i+1} \\\\\n",
    "&= \\frac{1}{2} - \\frac{1}{m+1}\n",
    "\\end{align}\n",
    "$$\n",
    "\n",
    "where the last equality uses the telescopic sum to cancel out all terms other than the first and the last one.\n",
    "\n",
    "In the limit as $m \\rightarrow \\infty$, this expected value goes to $1/2$."
   ]
  },
  {
   "cell_type": "markdown",
   "metadata": {},
   "source": [
    "**Exercise 1.19**.\n",
    "\n",
    "**(a)**  Assume that $X$ is a non-negative discrete random variable taking on values $a_1, a_2, \\dots$ and let $Y = h(X)$ for some non-negative function $h$.  Let $b_i = h(a_i)$, $i \\geq 1$ be the $i$-th value taken on by $Y$.  Show that $\\text{E}[Y] = \\sum_i b_i p_Y(b_i) = \\sum_i h(a_i) p_X(a_i)$.  Find an example where $\\text{E}[X]$ exists but $\\text{E}[Y] = \\infty$.\n",
    "\n",
    "**(b)**  Let $X$ be a non-negative continuous random variable with density $f_X(x)$ and let $h(x)$ be differentiable, non-negative, and strictly increasing in $x$.  Let $A(\\delta) = \\sum_{n \\geq 1} h(n \\delta) [F(n \\delta) - F(n \\delta - 1)]$, i.e, $A(\\delta)$ is a $\\delta$-th order approximation to the Stieltjes integral $\\int h(x) dF(x)$.  Show that if $A(1) < \\infty$, then $A(2^{-k}) \\leq A(2^{-(k-1)}) < \\infty$.  Show from this that $\\int h(x) dF(x)$ converges to a finite value.  Note:  This is a very special case, but it can be extended to many cases of interest.  It seems better to consider these convergence questions as required rather than to consider them in general."
   ]
  },
  {
   "cell_type": "markdown",
   "metadata": {},
   "source": [
    "**Solution**."
   ]
  },
  {
   "cell_type": "markdown",
   "metadata": {},
   "source": [
    "**(a)**  The result for the expectation of $Y = h(X)$ is almost immediate: $ \\text{E}[Y] = \\sum_i b_i p_Y(b_i)$, $b_i = h(a_i)$ and $p_Y(b_i) = p_X(a_i)$, so the result follows.  \n",
    "\n",
    "For an example where $\\text{E}[X]$ exists but $\\text{E}[Y]$ does not, let\n",
    "$a_n = n$, $p_X(a_n) = 2^{-n}$.  Then $\\text{E}[X] = \\sum_{n \\geq 1} n \\cdot 2^{-n} = 1$:\n",
    "\n",
    "$$ \\text{E}[X] = \\sum_{n \\geq 1} n \\cdot 2^{-n} = \\frac{1}{2} \\sum_{n \\geq 1} n \\cdot 2^{-n+1} = \\frac{1}{2} \\left( \\sum_{n \\geq 1} (n - 1) \\cdot 2^{-(n-1)} + \\sum_{n \\geq 1} 2^{-(n-1)} \\right) = \\frac{1}{2} \\left( \\text{E}[X] + 1 \\right) $$\n",
    "\n",
    "from which it follows that $\\text{E}[X] = 1$.\n",
    "\n",
    "Also let $h(x) = 2^x$.  Then\n",
    "\n",
    "$$ \\text{E}[Y] = \\sum_{n \\geq 1} h(n) \\cdot 2^{-n} = \\sum_{n \\geq 1} 2^n \\cdot 2^{-n} = \\sum_{n \\geq 1} 1$$\n",
    "\n",
    "which diverges to $\\infty$."
   ]
  },
  {
   "cell_type": "markdown",
   "metadata": {},
   "source": [
    "**(b)**  \n",
    "\n",
    "For each $0 < \\delta \\leq 1$, define a random variable $Z_\\delta$ that only assumes non-negative integer discrete values, with  \n",
    "\n",
    "$$\\text{Pr}\\{Z_\\delta = n\\} = \\begin{cases}\n",
    "F(n\\delta) - F(n\\delta - 1) &\\text{if } n \\geq 1 \\\\\n",
    "c_\\delta &\\text{if } n = 0\n",
    "\\end{cases}$$\n",
    "\n",
    "for some constant $c_\\delta \\geq 0$ such that the probabilities sum up to 1.  Note that this is a valid probability mass function definition for $0 < \\delta \\leq 1$, since \n",
    "\n",
    "$$ \\sum_{n \\geq 1} \\text{Pr}\\{ Z_\\delta = n\\} = \\sum_{n \\geq 1} F(n\\delta) - F(n\\delta - 1) \\leq \\sum_{n \\geq 1} F(n\\delta) - F((n - 1)\\delta) \\leq \\left( \\lim_{n \\rightarrow \\infty} F(n \\delta) \\right) - F(0) = 1 - F(0) \\leq 1 $$\n",
    "\n",
    "Then, by construction, \n",
    "\n",
    "$$ \\text{E}[\\delta Z_\\delta] = \\sum_{n \\geq 1} n \\delta \\cdot [F(n \\delta) - F(n\\delta - 1)]$$\n",
    "\n",
    "so\n",
    "\n",
    "$$ \\text{E}[h(\\delta Z_\\delta)] = \\sum_{n \\geq 1} h(n \\delta) [F(n \\delta) - F(n\\delta - 1)] = A(\\delta) $$\n",
    "\n",
    "We want to show that $A(2^{-k}) \\leq A(2^{-(k-1)})$, assuming these quantities exist / are finite.  But since they are expectations, if suffices to show that the values assumed by the corresponding random variables respect that inequality for every singleton event $\\{ \\omega \\}$ in the event space $\\Omega$.  This means if suffices to show that for $0 < \\delta \\leq 1/2$,\n",
    "\n",
    "$$ h(\\delta Z_\\delta(\\omega)) \\leq h((2 \\delta) Z_{2 \\delta}(\\omega)) $$\n",
    "\n",
    "and since $h$ is strictly increasing, it suffices to show that\n",
    "\n",
    "$$ Z_\\delta(\\omega) \\leq 2 Z_{2 \\delta}(\\omega) $$\n",
    "\n",
    "Now, we can explicitly define the function $Z_\\delta : \\mathbb{R} \\rightarrow \\{0, 1, 2, \\dots \\}$ for each $0 < \\delta \\leq 1$,\n",
    "\n",
    "$$ Z_\\delta(\\omega) = \\max \\left\\{ \\left\\lceil \\frac{f_X(\\omega)}{\\delta} \\right\\rceil, 0 \\right\\} $$\n",
    "\n",
    "We define the function this way so that $Z_\\delta(\\omega) = n$ for integer $n > 0$ if and only if\n",
    "\n",
    "$$ \\left\\lceil \\frac{f_X(\\omega)}{\\delta} \\right\\rceil = n $$\n",
    "\n",
    "or equivalently\n",
    "\n",
    "$$ n\\delta - 1 < f_X(\\omega) \\leq n\\delta $$\n",
    "\n",
    "Therefore, if we assign the probability density $f_X$ to the event space $\\Omega = \\mathbb{R}$, the probability density function of $Z_w$ satisfies the previously given definition.\n",
    "\n",
    "Now, finally, we only need to show that \n",
    "\n",
    "$$ \\max \\left\\{ \\left\\lceil \\frac{f_X(\\omega)}{\\delta} \\right\\rceil, 0 \\right\\} \\leq 2 \\max \\left\\{ \\left\\lceil \\frac{f_X(\\omega)}{2\\delta} \\right\\rceil, 0 \\right\\} $$\n",
    "\n",
    "which has both sides equal to 0 if $f_X(\\omega) \\leq 0$, and is otherwise equivalent to\n",
    "\n",
    "$$ \\left\\lceil \\frac{f_X(\\omega)}{\\delta} \\right\\rceil \\leq 2 \\left\\lceil \\frac{f_X(\\omega)}{2\\delta} \\right\\rceil $$\n",
    "\n",
    "which is true, as in general, for any constant $c > 0$,\n",
    "\n",
    "$$ \\frac{\\left\\lceil c \\right\\rceil}{2} \\leq \\left\\lceil \\frac{c}{2} \\right\\rceil $$\n",
    "\n",
    "Therefore, we have proved that for all $\\omega$, $\\delta Z_\\delta(\\omega) \\leq 2 \\delta Z_{2 \\delta}(\\omega)$, and so \n",
    "\n",
    "$$ A(2^{-k}) = \\text{E}[h(2^{-k} Z_{2^{-k}})] \\leq \\text{E}[h(2 \\cdot 2^{-k} Z_{2 \\cdot 2^{-k}})] = A(2^{-(k-1)})$$ \n",
    "\n",
    "Since all of these are bound by the case $k = 0$, $A(1)$, and since we assume that $A(1)$ converges to a finite value, then all $A(2^{-k})$ converge to a finite value.  Since $g(k) = A(2^{-k})$ is non-increasing, then we must have $\\lim_{\\delta \\rightarrow 0+} A(\\delta) = \\int h(x) dF(x)$  must also converge to a finite value."
   ]
  },
  {
   "cell_type": "markdown",
   "metadata": {},
   "source": [
    "**Exercise 1.20**.\n",
    "\n",
    "**(a)**  Consider a positive, integer-valued random variable whose CDF is given at integer values by\n",
    "\n",
    "$$ F_Y(y) = 1 - \\frac{2}{(y+1)(y+2)} $$\n",
    "\n",
    "Use (1.30) to show that $\\text{E}[Y] = 2$.  Hint:  Note the PMF given in (1.29).\n",
    "\n",
    "**(b)**  Find the PMF of $Y$ and use it to check the value of $\\text{E}[Y]$.\n",
    "\n",
    "**(c)**  Let $X$ be another positive, integer-valued random variable.  Assume its conditional PMF is given by\n",
    "\n",
    "$$ p_{X | Y}(x | y) = \\frac{1}{y} \\quad \\text{for } 1 \\leq x \\leq y$$\n",
    "\n",
    "Find $\\text{E}[X | Y = y]$ and show that $\\text{E}[X] = 3/2$.  Explore finding $p_X(x)$ until you are convinced that using the conditional expectation to calculate $\\text{E}[X]$ is considerably easier than using $p_X(x)$.\n",
    "\n",
    "**(d)**  Let $Z$ be another integer-valued random variable with the conditional PMF\n",
    "\n",
    "$$ p_{Z | Y}(z | y) = \\frac{1}{y^2} \\quad \\text{for } 1 \\leq z \\leq y^2 $$\n",
    "\n",
    "Find $\\text{E}[Z | Y = y]$ for each integer $y \\geq 1$ and find $\\text{E}[Z]$."
   ]
  },
  {
   "cell_type": "markdown",
   "metadata": {},
   "source": [
    "**Solution**."
   ]
  },
  {
   "cell_type": "markdown",
   "metadata": {},
   "source": [
    "**(a)**  As in 1.30,\n",
    "\n",
    "$$ \n",
    "\\begin{align}\n",
    "\\text{E}[Y] &= \\sum_{y \\geq 0} (1 - F_Y(y))  \\\\\n",
    "&= \\sum_{y \\geq 0} \\frac{2}{(y+1)(y+2)} \\\\\n",
    "&= 2 \\sum_{y \\geq 0} \\left(\\frac{1}{y + 1} - \\frac{1}{y + 2} \\right) \\\\\n",
    "&= 2 \\left( \\frac{1}{1} - \\frac{1}{2} + \\frac{1}{2} - \\frac{1}{3} + \\frac{1}{3} - \\frac{1}{4} + \\cdots \\right)  \\\\\n",
    "&= 2 \\cdot 1 = 2\n",
    "\\end{align}\n",
    "$$"
   ]
  },
  {
   "cell_type": "markdown",
   "metadata": {},
   "source": [
    "**(b)**  The PMF of $Y$ is, for integer $y \\geq 0$,\n",
    "\n",
    "$$ \n",
    "\\begin{align}\n",
    "p_Y(y) &= F_Y(y) - F_Y(y - 1) \\\\\n",
    "&= 1 - \\frac{2}{(y+1)(y+2)} - \\left( 1 - \\frac{2}{y(y+1)} \\right) \\\\\n",
    "&= \\frac{2}{y(y+1)} - \\frac{2}{(y+1)(y+2)} \\\\\n",
    "&= \\frac{4}{y(y+1)(y+2)}\n",
    "\\end{align}\n",
    "$$\n",
    "\n",
    "and so\n",
    "\n",
    "$$\n",
    "\\begin{align}\n",
    "\\text{E}[Y] &= \\sum_{y > 0} y p_Y(y) \\\\\n",
    "&= \\sum_{y > 0} \\frac{4}{(y+1)(y+2)} \\\\\n",
    "&= 4 \\sum_{y > 0} \\left( \\frac{1}{y+1} - \\frac{1}{y+2} \\right) \\\\\n",
    "&= 4 \\left( \\frac{1}{2} - \\frac{1}{3} + \\frac{1}{3} - \\frac{1}{4} + \\frac{1}{4} - \\frac{1}{5} + \\cdots \\right) \\\\\n",
    "&= 4 \\cdot \\frac{1}{2} = 2\n",
    "\\end{align}\n",
    "$$"
   ]
  },
  {
   "cell_type": "markdown",
   "metadata": {},
   "source": [
    "**(c)**  We have:\n",
    "\n",
    "$$ \\text{E}[X | Y = y] = \\sum_{x = 1}^y x p_{X | Y}(x | y) = \\sum_{x = 1}^y \\frac{x}{y} = \\frac{1}{y} \\frac{y(y+1)}{2} = \\frac{y+1}{2} $$\n",
    "\n",
    "and so\n",
    "\n",
    "$$ \\text{E}[X] = \\text{E}[\\text{E}[X | Y]] = \\text{E}\\left[ \\frac{Y + 1}{2} \\right] = \\frac{\\text{E}[Y] + 1}{2} = \\frac{3}{2} $$\n",
    "\n",
    "Explicitly finding the PMF of $X$ would be more complex:\n",
    "\n",
    "$$ p_X(x) = \\sum_{y > 0} p_{X | Y}(x | y) p_Y(y) = \\sum_{y \\geq x} \\frac{1}{y} \\frac{4}{y(y+1)(y+2)} $$"
   ]
  },
  {
   "cell_type": "markdown",
   "metadata": {},
   "source": [
    "**(d)**  We have:\n",
    "\n",
    "$$ \\text{E}[Z | Y = y] = \\sum_{z=1}^{y^2} z p_{Z | Y}(z | y) = \\sum_{z=1}^{y^2} \\frac{z}{y^2} = \\frac{1}{y^2} \\frac{y^2(y^2 + 1)}{2} = \\frac{y^2 + 1}{2} $$\n",
    "\n",
    "But:\n",
    "\n",
    "$$ \\text{E}[Y^2] = \\sum_{y > 0} y^2 p_Y(y) = \\sum_{y > 0} \\frac{4y}{(y+1)(y+2)}> \\sum_{y > 1} \\frac{1}{y+2} = \\infty$$\n",
    "\n",
    "which is to say, the sum diverges and the expectation of $Y^2$ is infinite.\n",
    "\n",
    "Therefore,\n",
    "\n",
    "$$ \\text{E}[Z] = \\text{E}[\\text{E}[Z | Y]] = \\text{E}\\left[ \\frac{Y^2 + 1}{2} \\right] = \\frac{\\text{E}[Y^2] + 1}{2} = \\infty $$\n",
    "\n",
    "which is to say the expectation of $Z$ is also infinite."
   ]
  }
 ],
 "metadata": {
  "kernelspec": {
   "display_name": "Python 3",
   "language": "python",
   "name": "python3"
  },
  "language_info": {
   "codemirror_mode": {
    "name": "ipython",
    "version": 3
   },
   "file_extension": ".py",
   "mimetype": "text/x-python",
   "name": "python",
   "nbconvert_exporter": "python",
   "pygments_lexer": "ipython3",
   "version": "3.7.3"
  }
 },
 "nbformat": 4,
 "nbformat_minor": 2
}
