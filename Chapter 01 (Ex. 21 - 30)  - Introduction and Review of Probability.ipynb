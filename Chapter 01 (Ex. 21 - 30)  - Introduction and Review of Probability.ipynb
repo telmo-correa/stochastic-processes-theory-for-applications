{
 "cells": [
  {
   "cell_type": "markdown",
   "metadata": {},
   "source": [
    "**Exercise 1.21**.\n",
    "\n",
    "**(a)**  Show that, for uncorrelated random variables, the expected value of the product is equal to the product of the expected values (by definition, $X$ and $Y$ are uncorrelated if $\\text{E}[(X - \\overline{X})(Y - \\overline{Y})] = 0$).\n",
    "\n",
    "**(b)**  Show that if $X$ and $Y$ are uncorrelated, then the variance of $X + Y$ is equal to the variance of $X$ plus the variance of $Y$.\n",
    "\n",
    "**(c)**  Show that if $X_1, \\dots, X_n$ are uncorrelated, then the variance of the sum is equal to the sum of variances.\n",
    "\n",
    "**(d)**  Show that independent random variables are uncorrelated.\n",
    "\n",
    "**(e)**  Let $X, Y$ be identically distributed ternary valued random variables with the PMF $p_X(-1) = p_X(1) = 1/4$, $p_X(0) = 1/2$.  Find a simple joint probability assignment such that $X$ and $Y$ are uncorrelated but dependent.\n",
    "\n",
    "**(f)**  You have seen that the MGF of a sum of independent random variables is equal to the product of the individual MGFs.  Give an example where this is false if the variables are uncorrelated but dependent."
   ]
  },
  {
   "cell_type": "markdown",
   "metadata": {},
   "source": [
    "**Solution**."
   ]
  },
  {
   "cell_type": "markdown",
   "metadata": {},
   "source": [
    "**(a)**  \n",
    "\n",
    "$$\n",
    "\\begin{align}\n",
    "\\text{E}[(X - \\overline{X})(Y - \\overline{Y})] &= \\text{E}[XY - \\overline{X}Y - X\\overline{Y} + \\overline{X}\\overline{Y}] \\\\\n",
    "&= \\text{E}[XY] - \\overline{Y}\\text{E}[X] - \\overline{X}\\text{E}[Y] + \\overline{X}\\overline{Y} \\\\\n",
    "&= \\text{E}[X]\\text{E}[Y] - \\overline{Y}\\text{E}[X] - \\overline{X}\\text{E}[Y] + \\overline{X}\\overline{Y} \\\\\n",
    "&= (\\text{E}[X] - \\overline{X})(\\text{E}[Y] - \\overline{Y}) \\\\\n",
    "&= 0 \\cdot 0 = 0\n",
    "\\end{align}\n",
    "$$"
   ]
  },
  {
   "cell_type": "markdown",
   "metadata": {},
   "source": [
    "**(b)**\n",
    "\n",
    "$$\n",
    "\\begin{align}\n",
    "\\text{Var}[X + Y] &= \\text{E}[(X+Y)^2] - \\text{E}[X + Y]^2  \\\\\n",
    "&= \\text{E}[X^2 + 2XY + Y^2] - (\\text{E}[X] + \\text{E}[Y])^2 \\\\\n",
    "&= \\text{E}[X^2] + 2 \\text{E}[XY] + \\text{E}[Y^2] - (\\text{E}[X]^2 + 2 \\text{E}[X] \\text{E}[Y] + \\text{E}[Y]^2) \\\\\n",
    "&= \\text{E}[X^2] - \\text{E}[X]^2 + \\text{E}[Y^2] - \\text{E}[Y]^2 \\\\\n",
    "&= \\text{Var}[X] + \\text{Var}[Y]\n",
    "\\end{align}\n",
    "$$"
   ]
  },
  {
   "cell_type": "markdown",
   "metadata": {},
   "source": [
    "**(c)**  The result follows from (b), by induction on the number of variables, and making $X = X_1 + \\dots + X_{n-1}$, $Y = X_n$."
   ]
  },
  {
   "cell_type": "markdown",
   "metadata": {},
   "source": [
    "**(d)** If $X$, $Y$ are independent,\n",
    "\n",
    "$$ F_{X, Y}(x, y) = F_X(x) F_Y(y) $$\n",
    "\n",
    "and so\n",
    "\n",
    "$$ \\text{E}[XY] = \\int_{X, Y} xy dF_{X, Y}(x, y) = \\int_X \\int_Y x y dF_X(x) dF_Y(y) = \\int_X x dF_X(x) \\int_Y y dF_Y(y) = \\text{E}[X] \\text{E}[Y] $$"
   ]
  },
  {
   "cell_type": "markdown",
   "metadata": {},
   "source": [
    "**(e)**  Consider the joint distribution:\n",
    "\n",
    "$$\n",
    "\\begin{array}{c|ccc|c}\n",
    " & Y = -1 & Y = 0 & Y = 1 & \\\\\n",
    "\\hline\n",
    "X = -1 & 1/8 & 0   & 1/8 & 1/4 \\\\\n",
    "X = 0  & 0   & 1/2 & 0   & 1/2 \\\\\n",
    "X = 1  & 1/8 & 0   & 1/8 & 1/4 \\\\\n",
    "\\hline\n",
    "       & 1/4 & 1/2 & 1/4 & 1\n",
    "\\end{array}\n",
    "$$\n",
    "\n",
    "We have:\n",
    "\n",
    "- $\\text{E}[XY] = \\text{E}[X] = \\text{E}[Y] = 0$, so $\\text{E}[XY] = \\text{E}[X]\\text{E}[Y]$, and $X, Y$ are uncorrelated.\n",
    "- $\\text{Pr}\\{X = 0 | Y = 0\\} = 1 \\neq \\text{Pr}\\{X = 0\\} = 1/2$, so $X, Y$ are dependent."
   ]
  },
  {
   "cell_type": "markdown",
   "metadata": {},
   "source": [
    "**(f)**  Consider the variables $X, Y$ defined above on the solution to (e).  Then the MGFs for $X, Y$ are:\n",
    "\n",
    "$$ g_X(r) = \\text{E}[e^{rX}] = \\frac{1}{4}(e^{-r} + e^r + 2)\n",
    "\\quad \\text{and} \\quad\n",
    "g_Y(r) = \\text{E}[e^{rY}] = \\frac{1}{4}(e^{-r} + e^r + 2)$$\n",
    "\n",
    "but the MGF for $X + Y$ (which only assumes values -2, 0, 2) is:\n",
    "\n",
    "$$ g_{X + Y}(r) = \\text{E}[e^{r(X + Y)}] = \\frac{1}{8}(e^{-2r} + e^{2r} + 6) $$\n",
    "\n",
    "which is distinct from\n",
    "\n",
    "$$ g_X(r) g_Y(r) = \\frac{1}{16}(e^{-r} + e^r + 2)^2 $$"
   ]
  },
  {
   "cell_type": "markdown",
   "metadata": {},
   "source": [
    "**Exercise 1.22**.  Suppose that $X$ has the Poisson PMF, $p_X(n) = \\lambda^n \\exp (-\\lambda) / n!$ for $n \\geq 0$  and $Y$ has the Poisson PMF, $p_Y(n) = \\mu^n \\exp (-\\mu) / n!$ for $n \\geq 0$.  Assume that $X$ and $Y$ are independent.  Show that $Z = X + Y$ is a Poisson random variable and find the conditional distribution of $Y$ conditional on $Z = n$."
   ]
  },
  {
   "cell_type": "markdown",
   "metadata": {},
   "source": [
    "**Solution**.  Since $X$ and $Y$ are independent, the MGF of $X + Y$ is the product of the MGFs of $X$ and $Y$,\n",
    "\n",
    "$$ g_Z(r) = g_{X + Y}(r) = g_X(r) g_Y(r) = e^{\\lambda (e^r - 1)} e^{\\mu (e^r - 1)} = e^{(\\lambda + \\mu) (e^r - 1)}$$\n",
    "\n",
    "This means that $Z$ has the same MGF as a Poisson distribution with parameter $\\lambda + \\mu$ -- so $Z \\sim \\text{Poisson}(\\lambda + \\mu)$.\n",
    "\n",
    "The conditional distribution of $Y$ conditional on $Z = n$ has PMF\n",
    "\n",
    "$$ \n",
    "\\begin{align}\n",
    "\\text{Pr}\\{Y = y | X + Y = n\\} &= \\frac{\\text{Pr}\\{Y = y, Z = n\\}}{\\text{Pr}\\{Z = n\\}} = \\frac{\\text{Pr}\\{Y = y, X = n - y\\}}{\\text{Pr}\\{Z = n\\}} = \\frac{\\text{Pr}\\{Y = y\\} \\text{Pr}\\{ X = n - y\\}}{\\text{Pr}\\{Z = n\\}}\\\\\n",
    "&= \\frac{\\mu^y e^{-\\mu}}{y!} \\frac{\\lambda^{n-y} e^{-\\lambda}}{(n - y)!} \\cdot \\frac{n!}{(\\lambda + \\mu)^n e^{-(\\lambda + \\mu)}} \\\\\n",
    "&= \\binom{n}{y} p^y (1 - p)^{n - y}\n",
    "\\end{align}\n",
    "$$\n",
    "\n",
    "where $p = \\frac{\\mu}{\\lambda + \\mu}$.\n",
    "\n",
    "Therefore, \n",
    "\n",
    "$$Y | Z = n \\sim \\text{Binomial}\\left(n, \\frac{\\mu}{\\lambda + \\mu} \\right) $$"
   ]
  },
  {
   "cell_type": "markdown",
   "metadata": {},
   "source": [
    "**Exercise 1.23**.\n",
    "\n",
    "**(a)**  Suppose $X, Y, Z$ are binary random variables, each taking on the value 0 with probability 1/2 and the value 1 with probability 1/2.  Find a simple example in which $X, Y, Z$ are statistically dependent but are pairwise statistically independent (i.e. $X, Y$ are statistically independent, $X, Z$ are statistically independent, and $Y, Z$ are statistically independent).  Give $p_{XYZ}(x, y, z)$ for your example.  Hint:  In the simplest example, there are four joint values for $x, y, z$ that have probability 1/4 each.\n",
    "\n",
    "**(b)**  Is pairwise statistical independence enough to ensure that\n",
    "\n",
    "$$ \\text{E} \\left[ \\prod_{i=1}^n X_i \\right] = \\prod_{i=1}^n \\text{E}[X_i] $$\n",
    "\n",
    "for a set of random variables $X_1, \\dots, X_n$ ?"
   ]
  },
  {
   "cell_type": "markdown",
   "metadata": {},
   "source": [
    "**Solution**"
   ]
  },
  {
   "cell_type": "markdown",
   "metadata": {},
   "source": [
    "**(a)**  Consider the joint distribution defined over sample space $\\Omega = \\{\\omega_1, \\omega_2, \\omega_3, \\omega_4 \\}$, where each singleton event $\\{ \\omega_i \\}$ is equiprobable:\n",
    "\n",
    "$$\n",
    "\\begin{array}{c|ccc|ccc|c}\n",
    "\\omega & X_1 & X_2 & X_3 & X_1 X_2 & X_1 X_3 & X_2 X_3 & X_1 X_2 X_3 \\\\\n",
    "\\hline\n",
    "\\omega_1 & 1 & 1 & 0 & 1 & 0 & 0 & 0\\\\\n",
    "\\omega_2 & 1 & 0 & 1 & 0 & 1 & 0 & 0\\\\\n",
    "\\omega_3 & 0 & 1 & 1 & 0 & 0 & 1 & 0\\\\\n",
    "\\omega_4 & 0 & 0 & 0 & 0 & 0 & 0 & 0\n",
    "\\end{array}\n",
    "$$\n",
    "\n",
    "We have:\n",
    "\n",
    "- $ \\text{E}[X_i] = 1/2 $ for $i = 1, 2, 3$\n",
    "- $ \\text{E}[X_i X_j] = 1/4 $ for $i, j \\in \\{ (1, 2), (1, 3), (2, 3) \\}$\n",
    "- $ \\text{E}[X_1 X_2 X_3] = 0$\n",
    "\n",
    "Therefore, we have pairwise statistical independence but overall statistical dependence."
   ]
  },
  {
   "cell_type": "markdown",
   "metadata": {},
   "source": [
    "**(b)**  No -- the scenario in (a) is a counterexample for 3 variables, and scenarios for arbitrarily more variables can be constructed by adding an arbitrary number of constant random variables $X_k(\\omega) = 1$ for $k > 3$."
   ]
  },
  {
   "cell_type": "markdown",
   "metadata": {},
   "source": [
    "**Exercise 1.24**.  Show that $\\text{E}[X]$ is the value of $\\alpha$ that minimizes $\\text{E}[(X - \\alpha)^2]$."
   ]
  },
  {
   "cell_type": "markdown",
   "metadata": {},
   "source": [
    "**Solution**.  We have:\n",
    "\n",
    "$$ f(\\alpha) = \\text{E}[(X - \\alpha)^2] = \\text{E}[X^2] - 2\\alpha\\text{E}[X] + \\alpha^2 $$\n",
    "\n",
    "The function $f$ is a second degree polynomial in $\\alpha$ with a leading coefficient of 1.  It has a single minimum, reached at $f'(\\alpha) = 0$, but\n",
    "\n",
    "$$ f'(\\alpha) = 2\\alpha - 2 \\text{E}[X] $$\n",
    "\n",
    "so the minimum is reached at $\\alpha = \\text{E}[X]$."
   ]
  },
  {
   "cell_type": "markdown",
   "metadata": {},
   "source": [
    "**Exercise 1.25**.  For each of the following random variables, find the endpoints $r_-$ and $r_+$ of the interval for which the MGF $g(r)$ exists.  Determine in each case whether $g_X(r)$ exists at $r_-$ and $r_+$.  For (a) and (b) you should also find and sketch $g(r)$.  For (c) and (d), $g(r)$ has no closed form.\n",
    "\n",
    "**(a)** Let $\\lambda, \\theta$ be positive numbers and let $X$ have the density\n",
    "\n",
    "$$ \n",
    "f_X(x) = \\begin{cases}\n",
    "\\frac{1}{2}\\lambda \\exp(-\\lambda x) &\\text{if } x \\geq 0 \\\\\n",
    "\\frac{1}{2}\\theta \\exp(\\theta x) &\\text{if } x < 0\n",
    "\\end{cases}\n",
    "$$\n",
    "\n",
    "**(b)** Let $Y$ be a Gaussian random variable with mean $m$ and variance $\\sigma^2$.\n",
    "\n",
    "**(c)** Let $Z$ be a non-negative random variable with density\n",
    "\n",
    "$$ f_Z(z) = k(1 + z)^{-2} \\exp (-\\lambda z) \\quad z \\geq 0 $$\n",
    " \n",
    "where $\\lambda > 0$ and $k = \\left[ \\int_{z \\geq 0} (1 + z)^{-2} \\exp(-\\lambda z) dz \\right]^{-1}$.  Hint:  Do not try to evaluate $g_Z(r)$.  Instead, investigate values of $r$ for which the integral is finite and infinite.\n",
    "\n",
    "**(d)** For the $Z$ of (c), find the limit of $\\gamma'(r)$ as $r$ approaches from below.  Then replace $(1 + z)^2$ with $|1 + z|^3$  in the definition of $f_Z(z)$ and $k$ and show whether the above limit is then finite or not.  Hint:  use tilted random variables; no integration is required."
   ]
  },
  {
   "cell_type": "markdown",
   "metadata": {},
   "source": [
    "**Solution**."
   ]
  },
  {
   "cell_type": "markdown",
   "metadata": {},
   "source": [
    "**(a)**.  $X$ is built as two exponential distributions, one mirrored into the negative domain.  That is, if\n",
    "\n",
    "$$\n",
    "\\begin{align}\n",
    "H &\\sim \\text{Binary}(1/2) \\\\\n",
    "A &\\sim \\text{Exponential}(\\lambda) \\\\\n",
    "B &\\sim \\text{Exponential}(\\theta)\n",
    "\\end{align}\n",
    "$$\n",
    "\n",
    "then we can define $X = HA + (1-H)(-B)$ to obtain a random variable with the given density function."
   ]
  },
  {
   "cell_type": "code",
   "execution_count": 1,
   "metadata": {},
   "outputs": [
    {
     "data": {
      "image/png": "[encoded data removed]",
      "text/plain": [
       "<Figure size 864x576 with 1 Axes>"
      ]
     },
     "metadata": {
      "needs_background": "light"
     },
     "output_type": "display_data"
    }
   ],
   "source": [
    "import numpy as np\n",
    "import matplotlib.pyplot as plt\n",
    "%matplotlib inline\n",
    "\n",
    "p_lambda = 0.7\n",
    "p_theta = 0.3\n",
    "\n",
    "def f(x):\n",
    "    return np.where(x >= 0, p_lambda * np.exp(-p_lambda * x) / 2, p_theta * np.exp(p_theta * x) / 2)\n",
    "\n",
    "xx_neg = np.arange(-10, 0, step=0.01)\n",
    "xx_pos = np.arange(0, 10, step=0.01)\n",
    "\n",
    "plt.figure(figsize=(12, 8))\n",
    "plt.plot(xx_neg, f(xx_neg), color='C0')\n",
    "plt.plot(xx_pos, f(xx_pos), color='C0')\n",
    "plt.vlines(0, ymin=0, ymax=0.4, linestyle='dashed', color='C0')\n",
    "plt.xlabel('x')\n",
    "plt.ylabel(r'$f_X(x)$')\n",
    "plt.ylim(0, 0.4)\n",
    "plt.show()"
   ]
  },
  {
   "cell_type": "markdown",
   "metadata": {},
   "source": [
    "We can compute the MGF explicitly:\n",
    "\n",
    "$$ \n",
    "\\begin{align}\n",
    "g_X(r) = \\text{E}[e^{rX}] & = \\int_X e^{rx} dF_X(x) \\\\\n",
    "&= \\int_{-\\infty}^0 e^{rx} \\frac{1}{2} \\theta e^{\\theta x} dx + \\int_0^\\infty e^{rx} \\frac{1}{2} \\lambda e^{-\\lambda x} dx  \\\\\n",
    "&= \\frac{1}{2} \\theta \\int_{-\\infty}^0 e^{(r + \\theta)x} dx + \\frac{1}{2} \\lambda \\int_0^\\infty e^{(r - \\lambda)x} dx\\\\\n",
    "&= \\frac{1}{2} \\left( \\frac{\\theta}{\\theta + r} + \\frac{\\lambda}{\\lambda - r} \\right)\n",
    "\\end{align}\n",
    "$$\n",
    "\n",
    "where the integrals are defined (i.e. do not diverge) for $-\\theta < r < \\lambda$."
   ]
  },
  {
   "cell_type": "code",
   "execution_count": 2,
   "metadata": {},
   "outputs": [
    {
     "data": {
      "image/png": "[encoded data removed]",
      "text/plain": [
       "<Figure size 864x576 with 1 Axes>"
      ]
     },
     "metadata": {
      "needs_background": "light"
     },
     "output_type": "display_data"
    }
   ],
   "source": [
    "import numpy as np\n",
    "import matplotlib.pyplot as plt\n",
    "%matplotlib inline\n",
    "\n",
    "p_lambda = 0.7\n",
    "p_theta = 0.3\n",
    "\n",
    "def g(r):\n",
    "    return (p_theta / (p_theta + r) + p_lambda / (p_lambda - r))/2\n",
    "\n",
    "epsilon = 1e-4\n",
    "rr = np.arange(-p_theta + epsilon, p_lambda - epsilon, step=1e-4)\n",
    "\n",
    "plt.figure(figsize=(12, 8))\n",
    "plt.plot(rr, g(rr), color='C0')\n",
    "plt.xlabel('r')\n",
    "plt.ylabel(r'$g_X(r)$')\n",
    "plt.vlines([-p_theta, p_lambda], ymin=0, ymax=25, linestyle='dashed', color='C0')\n",
    "plt.ylim(0, 25)\n",
    "plt.show()"
   ]
  },
  {
   "cell_type": "markdown",
   "metadata": {},
   "source": [
    "**(b)**  A Gaussian random variable with mean $\\mu$ and variance $\\sigma^2$ has PDF\n",
    "\n",
    "$$ f_Y(y) = \\frac{1}{\\sigma \\sqrt{2 \\pi}} \\exp \\left\\{ -\\frac{1}{2} \\left( \\frac{x - \\mu}{\\sigma} \\right)^2 \\right\\}$$\n",
    "\n",
    "Here is a picture as a reminder of what a Gaussian distribution looks like."
   ]
  },
  {
   "cell_type": "code",
   "execution_count": 3,
   "metadata": {},
   "outputs": [
    {
     "data": {
      "image/png": "[encoded data removed]",
      "text/plain": [
       "<Figure size 864x576 with 1 Axes>"
      ]
     },
     "metadata": {
      "needs_background": "light"
     },
     "output_type": "display_data"
    }
   ],
   "source": [
    "import numpy as np\n",
    "import matplotlib.pyplot as plt\n",
    "%matplotlib inline\n",
    "\n",
    "mu = 0.2\n",
    "sigma = 1.5\n",
    "\n",
    "def f(y):\n",
    "    return np.exp(-0.5 * ((y - mu) / sigma)**2) / (sigma * np.sqrt(2 * np.pi))\n",
    "\n",
    "xx = np.arange(-5, 5, step=0.01)\n",
    "\n",
    "plt.figure(figsize=(12, 8))\n",
    "plt.plot(xx, f(xx), color='C0')\n",
    "plt.vlines(mu, ymin=0, ymax=0.3, linestyle='dashed', color='C0')\n",
    "plt.xlabel('y')\n",
    "plt.ylabel(r'$f_Y(y)$')\n",
    "plt.ylim(0, 0.3)\n",
    "plt.show()"
   ]
  },
  {
   "cell_type": "markdown",
   "metadata": {},
   "source": [
    "Computing the MGF:\n",
    "\n",
    "$$ g_Y(r) = \\text{E}[e^{rY}] = \\int e^{ry} \\frac{1}{\\sigma \\sqrt{2 \\pi}} e^{ -\\frac{1}{2} \\left( \\frac{y - \\mu}{\\sigma} \\right)^2 } dy$$\n",
    "\n",
    "Define $z = \\frac{y - \\mu}{\\sigma}$, which implies $y = z \\sigma + \\mu$.  Then, with variable changing, we get\n",
    "\n",
    "$$ \n",
    "\\begin{align}\n",
    "g_Y(r) &= \\int e^{ry} \\frac{1}{\\sigma \\sqrt{2 \\pi}} e^{ -\\frac{1}{2} \\left( \\frac{y - \\mu}{\\sigma} \\right)^2 } dy \\\\\n",
    "&= e^{\\mu r} \\int e^{z \\sigma r} \\frac{1}{\\sigma \\sqrt{2 \\pi}} e^{-\\frac{1}{2} z^2} \\left| \\frac{dy}{dz} \\right| dz \\\\\n",
    "&= e^{\\mu r} \\int e^{z \\sigma r} \\frac{1}{\\sqrt{2 \\pi}} e^{-\\frac{1}{2} z^2} dz \\\\\n",
    "&= e^{\\mu r} e^{-\\frac{1}{2} \\sigma^2 r^2}\n",
    "\\end{align}\n",
    "$$\n",
    "\n",
    "This is defined everywhere."
   ]
  },
  {
   "cell_type": "code",
   "execution_count": 4,
   "metadata": {},
   "outputs": [
    {
     "data": {
      "image/png": "[encoded data removed]",
      "text/plain": [
       "<Figure size 864x576 with 1 Axes>"
      ]
     },
     "metadata": {
      "needs_background": "light"
     },
     "output_type": "display_data"
    }
   ],
   "source": [
    "import numpy as np\n",
    "import matplotlib.pyplot as plt\n",
    "%matplotlib inline\n",
    "\n",
    "mu = 0.2\n",
    "sigma = 1.5\n",
    "\n",
    "def g(r):\n",
    "    return np.exp(mu * r - (sigma**2) * (r**2)/2)\n",
    "\n",
    "epsilon = 1e-4\n",
    "rr = np.arange(-2, 2, step=1e-4)\n",
    "\n",
    "plt.figure(figsize=(12, 8))\n",
    "plt.plot(rr, g(rr), color='C0')\n",
    "plt.vlines(mu / 2, ymin=0, ymax=1.2, linestyle='dashed', color='C0')\n",
    "plt.xlabel('r')\n",
    "plt.ylabel(r'$g_Y(r)$')\n",
    "plt.show()"
   ]
  },
  {
   "cell_type": "markdown",
   "metadata": {},
   "source": [
    "**(c)**  $k$ is a normalizing constant, for any given $z$, in the probability density function; if \n",
    "\n",
    "$$ h(z) = \\frac{e^{-\\lambda z}}{(1 + z)^2} \\quad z \\geq 0 $$\n",
    "\n",
    "then\n",
    "\n",
    "$$ f_Z(z) = kh(z) = \\frac{h(z)}{\\int_0^\\infty h(t) dt} \\quad z \\geq 0 $$\n",
    "\n",
    "- If $\\lambda = 0$, then $h(z) = (1 + z)^{-2}$, $k = \\int_0^\\infty h(t) dt = \\text{atan}(\\infty) - \\text{atan}(0) = \\pi / 2$, and $f_Z(z)$ is well defined -- it is (rescaled) positive half the Cauchy distribution with scale $\\gamma = 1$.  \n",
    "\n",
    "- If $\\lambda < 0$, then $\\lim_{z \\rightarrow +\\infty} h(z) = \\infty$, as the denominator grows exponentially while the numerator grows as $O(z^2)$, so $k$ is not defined, and neither is $f_Z$.\n",
    "\n",
    "- If $\\lambda > 0$, then $h(z) < (1 + z)^{-2}$, and so $0 < k = \\int_0^\\infty h(t) dt < \\int_0^\\infty (1+t)^{-2} dt = \\pi / 2 $ and the function is well-defined, as we have the integral bound by finite values.\n",
    "\n",
    "The MGF will be\n",
    "\n",
    "$$ g_Z(r) = \\text{E}[e^{rZ}] = \\int_0^\\infty e^{rz} \\frac{e^{-\\lambda z}}{k(1 + z)^2} dz = \\int_0^\\infty \\frac{e^{(r - \\lambda)z}}{k(1 + z)^2} dz $$\n",
    "\n",
    "which is defined for all $r \\leq \\lambda$."
   ]
  },
  {
   "cell_type": "markdown",
   "metadata": {},
   "source": [
    "**(d)**   The derivative of the MGF for (c), $g_Z'(r)$, is\n",
    "\n",
    "$$ g'_Z(r) = \\frac{d}{dr} \\left( \\int_0^\\infty \\frac{e^{(r - \\lambda)z}}{k(1 + z)^2} dz \\right) = \\int_0^\\infty \\left( \\frac{d}{dr} \\frac{e^{(r - \\lambda)z}}{k(1 + z)^2} \\right) dz = \\int_0^\\infty \\frac{z e^{(r - \\lambda)z}}{k(1 + z)^2} dz $$\n",
    "\n",
    "Its limit as $r$ approaches from below is\n",
    "\n",
    "$$ \\lim_{r \\rightarrow \\lambda-} \\int_0^\\infty \\frac{z e^{(r - \\lambda)z}}{k(1 + z)^2} dz = \\frac{1}{k} \\int_0^\\infty \\frac{z}{(1 + z)^2} dz = \\infty $$\n",
    "\n",
    "since the integral does not converge, as $z / (1 + z^2) > 1 / (2z)$ for $z > 1$ and the integral of $1 / z$ can be lower bound by the harmonic series, which diverges.\n",
    "\n",
    "If $\\gamma_Z(r) = \\ln g_Z(r)$, then $\\gamma'_Z(r) = g'_Z(r) / g_Z(r)$; since $g_Z(\\lambda)$ is finite, we also have $\\lim_{r \\rightarrow \\lambda-} \\gamma'(r) = \\infty$.\n",
    "\n",
    "If we define the random variable replacing $(1 + z^2)$ with $|1 + z|^3$, we get:\n",
    "\n",
    "$$ h_W(w) = \\frac{e^{-\\lambda w}}{(1 + w)^3} \\quad w \\geq 0 $$\n",
    "\n",
    "and\n",
    "\n",
    "$$ f_W(w) = k h_W(w) = \\frac{h_W(w)}{\\int_0^\\infty h_W(t) dt} \\quad w \\geq 0 $$\n",
    "\n",
    "- If $\\lambda = 0$, $h_W(w) = (1 + w)^3$, $k = \\int_0^\\infty h(t) dt = 1/2$, and $f_W(w)$ is well defined.\n",
    "- If $\\lambda < 0$, then $\\lim_{w \\rightarrow +\\infty} h_W(w) = \\infty$, as the denominator grows exponentially while the numerator grows as $O(w^3)$, so $k$ is not defined, and neither is $f_W$.\n",
    "- If $\\lambda > 0$, then $h_W(w) < (1 + z)^{-3}$, and so $0 < k = \\int_0^\\infty h_W(t) dt < \\int_0^\\infty (1 + t)^{-3} dt = 1/2$ and the function is well-defined, as we have the integral bound by finite values.\n",
    "\n",
    "The MGF will be\n",
    "\n",
    "$$ g_W(r) = \\text{E}[e^{rW}] = \\int_0^\\infty e^{rw} \\frac{e^{-\\lambda w}}{k(1 + w)^3} dw = \\int_0^\\infty \\frac{e^{(r - \\lambda) w}}{k(1 + w)^3} dw $$\n",
    "\n",
    "which is defined for all $r \\leq \\lambda$.\n",
    "\n",
    "The derivative of the MGF is\n",
    "\n",
    "$$ g'_W(r) = \\frac{d}{dr} \\left( \\int_0^\\infty \\frac{e^{(r - \\lambda)w}}{k(1 + w)^3} dw \\right) = \\int_0^\\infty \\left( \\frac{d}{dr} \\frac{e^{(r - \\lambda)z}}{k(1 + w)^3} \\right) dw = \\int_0^\\infty \\frac{w e^{(r - \\lambda)z}}{k(1 + w)^3} dw$$\n",
    "\n",
    "and its limit as $r$ approaches from below is\n",
    "\n",
    "$$ \\lim_{r \\rightarrow \\lambda-} \\int_0^\\infty \\frac{w e^{(r - \\lambda)w}}{k(1 + w)^3} dw = \\frac{1}{k} \\int_0^\\infty \\frac{w}{(1 + w)^3} dw = \\frac{1}{2k} $$\n",
    "\n",
    "If $\\gamma_W(r) = \\ln g_W(r)$, then $\\gamma'_W(r) = g'_W(r) / g_W(r)$, so\n",
    "\n",
    "$$ \\lim_{r \\rightarrow \\lambda-} \\gamma'_W(r) = \\frac{g'_W(\\lambda)}{g_W(\\lambda)} = \\frac{\\frac{1}{2k}}{\\frac{1}{2k}} = 1 $$"
   ]
  },
  {
   "cell_type": "markdown",
   "metadata": {},
   "source": [
    "**Exercise 1.26**.\n",
    "\n",
    "**(a)** Assume that the MGF of the random variable $X$ exists (i.e. is finite) in the interval $(r_-, r_+)$, $r_- < 0 < r_+$, and assume $r_- < r < r_+$ throughout.  For any finite constant $c$, express the MGF of $X - c$, i.e., $g_{X - c}(r)$, in terms of $g_X(r)$ and show that $g_{X - c}(r)$ exists for all $r$ in $(r_-, r_+)$.  Explain why $g''_{X - c}(r) \\geq 0$.\n",
    "\n",
    "**(b)** Show that $g''_{X - r}(r) = [g''_X(r) - 2c g'_X(r) + c^2 g_X(r)] e^{-rc}$.\n",
    "\n",
    "**(c)** Use (a) and (b) to show that $g''_X(r)g_X(r) - [g'_X(r)]^2 \\geq 0$.  Let $\\gamma_X = \\ln g_X(r)$ and show that $\\gamma''_X(r) \\geq 0$.  Hint:  Choose $c = g'_X(r) / g_X(r)$.\n",
    "\n",
    "**(d)** Assume that $X$ is non-deterministic, i.e. there is no value of $\\alpha$ such that $\\text{Pr}\\{X  = \\alpha \\} = 1$.  Show that the inequality sign '$\\geq$' may be replaced by '$>$' everywhere in (a), (b), and (c)."
   ]
  },
  {
   "cell_type": "markdown",
   "metadata": {},
   "source": [
    "**Solution**."
   ]
  },
  {
   "cell_type": "markdown",
   "metadata": {},
   "source": [
    "**(a)**\n",
    "\n",
    "$$ g_{X-c}(r) = \\text{E}[e^{r(X - c)}] = e^{-rc} \\text{E}[e^{rX}] = e^{-rc} g_X(r) $$\n",
    "\n",
    "Therefore, $g_{X-c}(r)$ exists if and only if $g_X(r)$ exists -- so it exists for all $r$ in $(r_-, r_+)$.\n",
    "\n",
    "Taking the second derivative,\n",
    "\n",
    "$$\n",
    "\\begin{align}\n",
    "g''_{X - c}(r) &= e^{-rc} (c^2 g_X(r) - 2c g'_X(r) + g''_X(r)) \\\\\n",
    "&= e^{-rc} (c^2 \\text{E}[e^{rX}] - 2c \\text{E}[Xe^{rX}] + \\text{E}[X^2 e^{rX}] ) \\\\\n",
    "&= e^{-rc} \\text{E}[c^2 e^{rX} - 2c X e^{rX} + X^2 e^{rX}] \\\\\n",
    "&= \\text{E}[e^{r(X - c)}(X - c)^2]\n",
    "\\end{align}\n",
    "$$\n",
    "\n",
    "Since, for all values of $X$, $e^{r(X - c)} > 0$ and $(c - X)^2 \\geq 0$ we must have $g''_{X - c}(r) \\geq 0$."
   ]
  },
  {
   "cell_type": "markdown",
   "metadata": {},
   "source": [
    "**(b)**  Result was assumed implicitly in (a).  The explicit calculation is, for the first derivative,\n",
    "\n",
    "$$ \n",
    "\\begin{align}\n",
    "g'_{X - c}(r) &= \\frac{d e^{-rc}}{dr} g_X(r) + e^{-rc}\\frac{g_X(r)}{dr} \\\\\n",
    "&= -c e^{-rc} g_X(r) + e^{-rc}g'_X(r) \\\\\n",
    "&= e^{-rc}( -c \\text{E}[e^{rX}] + \\text{E}[X e^{rX}]) \\\\\n",
    "&= \\text{E}[e^{r(X - c)}(X - c)]\n",
    "\\end{align}\n",
    "$$\n",
    "\n",
    "and, for the second derivative,\n",
    "\n",
    "$$\n",
    "\\begin{align}\n",
    "g''_{X - c}(r) &= \\frac{d}{dr} \\left[ -c e^{-rc} g_X(r) \\right] + \\frac{d}{dr} \\left[ e^{-rc}g'_X(r) \\right] \\\\\n",
    "&= -c \\left[ \\frac{de^{-rc}}{dr} g_X(r) + e^{-rc} g'_X(r) \\right] + \\left[\\frac{de^{-rc}}{dr} g'_X(r) + e^{-rc} g''_X(r) \\right] \\\\\n",
    "&= c^2 e^{-rc} g_X(r) - c e^{-rc} g'_X(r) - c e^{-rc} g'_X(r) + e^{-rc} g''_X(r) \\\\\n",
    "&= [g''_X(r) - 2c g'_X(r) + c^2 g_X(r)] e^{-rc} \\\\\n",
    "&= \\text{E}[e^{r(X-c)}(X - c)^2]\n",
    "\\end{align}\n",
    "$$"
   ]
  },
  {
   "cell_type": "markdown",
   "metadata": {},
   "source": [
    "**(c)**  Using (a) and (b), we have\n",
    "\n",
    "$$ g''_X(r) - 2cg'_X(r) + c^2 g_X(r) \\geq 0 $$\n",
    "\n",
    "If we choose $c = g'_X(r) / g_X(r)$, we get\n",
    "\n",
    "$$ \n",
    "\\begin{align}\n",
    "g''_X(r) - 2 g'_X(r) \\frac{g'_X(r)}{g_X(r)} + g_X(r) \\frac{g'_X(r)^2}{g_X(r)^2} &\\geq 0  \\\\\n",
    "g''_X(r) - \\frac{g'_X(r)^2}{g_X(r)} &\\geq 0\n",
    "\\end{align}\n",
    "$$\n",
    "\n",
    "and, since $g_X(r) = \\text{E}[e^{rX}] \\geq 0$ \n",
    "\n",
    "$$ g''_X(r) g_X(r) - g'_X(r)^2 \\geq 0 $$\n",
    "\n",
    "Let $\\gamma_X(r) = \\ln g_X(r)$.  Then  $\\gamma'_X(r) = g'_X(r) / g_X(r)$, and\n",
    "\n",
    "$$ \\gamma''_X(r) = \\left(\\frac{d}{dr} g'_X(r) \\right) \\frac{1}{g_X(r)} + g'_X(r) \\left( \\frac{d}{dr} \\frac{1}{g_X(r)} \\right)\n",
    "= \\frac{g''_X(r)}{g_X(r)} - g'_X(r) \\frac{g'_X(r)}{g_X(r)^2} = \\frac{g''_X(r) g_X(r) - g'_X(r)^2}{g_X(r)^2} \\geq 0\n",
    "$$"
   ]
  },
  {
   "cell_type": "markdown",
   "metadata": {},
   "source": [
    "**(d)**  If $X$ is constant, then for all $X$ there is a constant $a$ where $X - c = a$, and \n",
    "\n",
    "$$\n",
    "\\begin{align}\n",
    "g_{X - c}(r) &= \\text{E}[e^{-ra}] = e^{-ra} \\\\\n",
    "g'_{X - c}(r) &= \\text{E}[-a e^{-ra}] = -ae^{-ra} \\\\\n",
    "g''_{X - c}(r) &= \\text{E}[a^2 e^{-ra}] = a^2 e^{-ra}\n",
    "\\end{align}\n",
    "$$\n",
    "\n",
    "and so all inequalities are equalities."
   ]
  },
  {
   "cell_type": "markdown",
   "metadata": {},
   "source": [
    "**Exercise 1.27**.  A computer system has $n$ users, each with a unique name and password.  Due to a software error, the $n$ passwords are randomly permutated internally (i.e. each of the $n!$ possible permutations is equally likely).  Only those users lucky enough to have had their password unchanged in the permutation are able to continue using the system.\n",
    "\n",
    "**(a)**  What is the probability that a particular user, say user 1, is able to continue using the system?\n",
    "\n",
    "**(b)**  What is the expected number of users able to continue using the system? Hint:  Let $X_i$ be a random variable with the value 1 if user $i$ can use the system and 0 otherwise."
   ]
  },
  {
   "cell_type": "markdown",
   "metadata": {},
   "source": [
    "**Solution**."
   ]
  },
  {
   "cell_type": "markdown",
   "metadata": {},
   "source": [
    "**(a)**  By symmetry, the password of user 1 may have been sent to any of the $n$ users with equal probability, so the probability of it staying in user 1 is $1 / n$."
   ]
  },
  {
   "cell_type": "markdown",
   "metadata": {},
   "source": [
    "**(b)**  If $X_i$ is defined as suggested, then from (a) $\\text{E}[X_i] = 1 / n$, and so $\\text{E}\\left[ \\sum_i X_i \\right] = \\sum_i \\text{E}[X_i] = 1$ -- which is to say, the expected number of users able to continue using the system is 1."
   ]
  },
  {
   "cell_type": "markdown",
   "metadata": {},
   "source": [
    "**Exercise 1.28**.  Suppose that the random variable $X$ is continuous and has the CDF $F_X(x)$.  Consider another random variable $Y = F_X(X)$.  That is, for each sample point $\\omega$ such that $X(\\omega) = x$, we have $Y(\\omega) = F_X(x)$.  Show that $Y$ is uniformly distributed in the interval 0 to 1."
   ]
  },
  {
   "cell_type": "markdown",
   "metadata": {},
   "source": [
    "**Solution**.  We have, for $0 \\leq y \\leq 1$,\n",
    "\n",
    "$$ F_Y(y) = \\text{Pr}\\{Y < y\\} = \\text{Pr}\\{F_X(X) < y \\} = \\text{Pr} \\{ X < F_X^{-1}(y) \\} = F_X(F_X^{-1}(y)) = y $$\n",
    "\n",
    "and so $Y \\sim \\text{Uniform}(0, 1)$."
   ]
  },
  {
   "cell_type": "markdown",
   "metadata": {},
   "source": [
    "**Exercise 1.29**.  Let $Z$ be an integer-valued random variable with the PMF $p_Z(n) = 1/k$ from $0 \\leq n \\leq k - 1$.  Find the mean, variance, and MGF of $Z$.  Hint:  An elegant way to do this is to let $U$ be a uniformly distributed continuous random variable over $(0, 1]$ that is independent of $Z$.  Then $U + Z$ is uniform over $(0, k]$.  Use the known results about $U$ and $U + Z$ to find the mean, variance, and MGF of $Z$."
   ]
  },
  {
   "cell_type": "markdown",
   "metadata": {},
   "source": [
    "**Solution**.  Let $U$ be defined as suggested:\n",
    "\n",
    "$$ U \\sim \\text{Uniform}(0, 1) \\quad \\text{and} \\quad U + Z \\sim \\text{Uniform}(0, k)$$\n",
    "\n",
    "Mean:\n",
    "\n",
    "$$ \\text{E}[U + Z] = \\frac{k}{2} \\quad \\text{and} \\quad \\text{E}[U + Z] = \\text{E}[U] + \\text{E}[Z] = \\frac{1}{2} + \\text{E}[Z] $$\n",
    "\n",
    "$$ \\Longrightarrow \\text{E}[Z] = \\frac{k - 1}{2} $$\n",
    "\n",
    "Variance:\n",
    "\n",
    "$$ \\text{Var}[U + Z] = \\frac{k^2}{12} \\quad \\text{and} \\quad \\text{Var}[U + Z] = \\text{Var}[U] + \\text{Var}[Z] = \\frac{1}{12} + \\text{Var}[Z] $$\n",
    "\n",
    "$$ \\Longrightarrow \\text{Var}[Z] = \\frac{k^2 - 1}{12} $$\n",
    "\n",
    "MGF:\n",
    "\n",
    "$$ g_{U + Z}(r) = \\frac{e^{rk} - 1}{rk} \\quad \\text{and} \\quad g_{U + Z}(r) = g_U(r) g_Z(r) = \\frac{e^r - 1}{r} g_Z(r) $$\n",
    "\n",
    "$$ \\Longrightarrow g_Z(r) = \\frac{e^{rk} - 1}{k(e^r - 1)} $$"
   ]
  },
  {
   "cell_type": "markdown",
   "metadata": {},
   "source": [
    "**Exercise 1.30 (Alternative approach 1 to the Markov inequality)**.\n",
    "\n",
    "**(a)**  Let $Y$ be a non-negative random variable and $y > 0$ be some fixed number.  Let $A$ be the event that $Y \\geq y$.  Show that $y \\mathbb{I}_A \\leq Y$ (i.e. this inequality is satisfied for every $\\omega \\in \\Omega$).\n",
    "\n",
    "**(b)**  Use your result in (a) to prove the Markov inequality."
   ]
  },
  {
   "cell_type": "markdown",
   "metadata": {},
   "source": [
    "**Solution**."
   ]
  },
  {
   "cell_type": "markdown",
   "metadata": {},
   "source": [
    "**(a)**  We have:\n",
    "\n",
    "$$ \\omega \\in A \\Rightarrow Y(\\omega) \\geq y = y \\cdot \\mathbb{I}_A(\\omega) $$\n",
    "\n",
    "and\n",
    "\n",
    "$$ \\lnot (\\omega \\in A) \\Rightarrow y\\mathbb{I}_A(\\omega) = 0 \\leq Y(\\omega) $$\n",
    "\n",
    "since $Y$ is non-negative.  Therefore the inequality is satisfied for every $\\omega \\in \\Omega = A \\cup A^c$."
   ]
  },
  {
   "cell_type": "markdown",
   "metadata": {},
   "source": [
    "**(b)**  Markov's inequality follows by taking the expectation on both sides and dividing by $y$:\n",
    "\n",
    "$$ \\text{E}[y \\cdot \\mathbb{I}_A] = y \\text{E}[\\mathbb{I}_A] = y \\text{Pr}[A] = y \\text{Pr}\\{Y \\geq y \\} $$\n",
    "\n",
    "so\n",
    "\n",
    "$$\n",
    "\\begin{align}\n",
    "&\\forall \\omega \\; y \\cdot \\mathbb{I}_A \\leq Y \\\\\n",
    "\\Longrightarrow& \\; \\text{E}[y \\cdot \\mathbb{I}_A] \\leq \\text{E}[Y]  \\\\\n",
    "\\Longrightarrow& \\; y \\text{Pr}\\{Y \\geq y \\} \\leq \\text{E}[y] \\\\\n",
    "\\Longrightarrow& \\; \\text{Pr}\\{Y \\geq y \\} \\leq \\frac{\\text{E}[y]}{y}\n",
    "\\end{align} \n",
    "$$"
   ]
  }
 ],
 "metadata": {
  "kernelspec": {
   "display_name": "Python 3",
   "language": "python",
   "name": "python3"
  },
  "language_info": {
   "codemirror_mode": {
    "name": "ipython",
    "version": 3
   },
   "file_extension": ".py",
   "mimetype": "text/x-python",
   "name": "python",
   "nbconvert_exporter": "python",
   "pygments_lexer": "ipython3",
   "version": "3.7.3"
  }
 },
 "nbformat": 4,
 "nbformat_minor": 2
}
