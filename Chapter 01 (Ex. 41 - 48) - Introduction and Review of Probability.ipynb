{
 "cells": [
  {
   "cell_type": "markdown",
   "metadata": {},
   "source": [
    "**Exercise 1.41 (Details in the proof of Theorem 1.7.4)**.  \n",
    "\n",
    "**(a)**  Show that if $X_1, X_2, \\dots$ are IID, then the truncated versions $\\breve{X}_1, \\breve{X}_2, \\dots$ are also IID.\n",
    "\n",
    "**(b)**  Show that each $\\breve{X}_i$ has a finite mean $\\text{E}[\\breve{X}]$ and finite variance $\\sigma_\\breve{X}^2$.  Show that the variance is upper bounded by the second moment around the original mean $\\overline{X}$, i.e., show that $\\sigma_\\breve{X}^2 \\leq \\text{E}[|\\breve{X} - \\text{E}[X]|^2]$.\n",
    "\n",
    "**(c)**  Assume that $\\breve{X}_i$ is $X_i$ truncated to $\\overline{X} \\pm b$.  Show that $|\\breve{X} - \\overline{X}| \\leq b$ and that $|\\breve{X} - \\overline{X}| \\leq |X - \\overline{X}|$.  Use this to show that $\\sigma_\\breve{X}^2 \\leq b \\text{E}[|\\breve{X} - \\overline{X}|] \\leq 2 b\\text{E}[|X|]$.\n",
    "\n",
    "**(d)**  Let $\\breve{S}_n = \\breve{X}_1 + \\cdots + \\breve{X}_n$ and show that for any $\\epsilon > 0$,\n",
    "\n",
    "$$ \\text{Pr}\\left\\{ \\left| \\frac{\\breve{S}_n}{n} - \\text{E}[\\breve{X}] \\right| \\geq \\frac{\\epsilon}{2} \\right\\} \\leq \\frac{8b\\text{E}[|X|]}{n \\epsilon^2} $$\n",
    "\n",
    "**(e)**  Sketch the form of $F_{\\breve{X} - X}(x)$ and use this, along with (1.34), to show that for all sufficiently large $b$, $|\\text{E}[\\breve{X} - \\overline{X}|] \\leq \\epsilon / 2$.  Use this to show that\n",
    "\n",
    "$$ \\text{Pr}\\left\\{ \\left| \\frac{\\breve{S}_n}{n} - \\text{E}[X] \\right| \\geq \\epsilon \\right\\} \\leq \\frac{8b\\text{E}[|X|]}{n \\epsilon^2} \\quad \\text{for all large enough } b$$\n",
    "\n",
    "**(f)**  Use the following equation to justify (1.96).\n",
    "\n",
    "$$ \\text{Pr}\\left\\{ \\left| \\frac{S_n}{n} - \\text{E}[X] \\right| > \\epsilon \\right\\}\n",
    "= \\text{Pr}\\left\\{ \\left( \\left| \\frac{S_n}{n} - \\text{E}[X] \\right| > \\epsilon \\right) \\cap \\left( S_n = \\breve{S}_n \\right) \\right\\}\n",
    "+ \\text{Pr}\\left\\{ \\left( \\left| \\frac{S_n}{n} - \\text{E}[X] \\right| > \\epsilon \\right) \\cap \\left( S_n \\neq \\breve{S}_n \\right) \\right\\}\n",
    "$$"
   ]
  },
  {
   "cell_type": "markdown",
   "metadata": {},
   "source": [
    "**Solution**."
   ]
  },
  {
   "cell_type": "markdown",
   "metadata": {},
   "source": [
    "**(a)**  By construction, the CDF of $\\breve{X}_i$ is\n",
    "\n",
    "$$\n",
    "F_\\breve{X}(x) = \\begin{cases}\n",
    "0 &\\text{if } x < \\overline{X} - b \\\\\n",
    "F_X(x) &\\text{if } \\overline{X} - b \\leq x < \\overline{X} + b \\\\\n",
    "1 &\\text{if } x \\geq \\overline{X} + b\n",
    "\\end{cases}\n",
    "$$\n",
    "\n",
    "and so all $\\breve{X}_i$ are identically distributed, and since the $X_i$'s are independent, so are $h(X_i)$'s for any function $h$; in particular, the $\\breve{X}_i$'s are independent."
   ]
  },
  {
   "cell_type": "markdown",
   "metadata": {},
   "source": [
    "**(b)**  By construction, $\\text{E}[X] - b \\leq \\breve{X}_i \\leq \\text{E}[X] + b$, so taking the expectation, we get bounds for the mean, $\\text{E}[X] - b \\leq \\text{E}[\\breve{X}_i] \\leq \\text{E}[X] + b$, which must exist and be finite.\n",
    "\n",
    "We also have\n",
    "\n",
    "$$ \\sigma_\\breve{X}^2 = \\text{Var}[\\breve{X}] = \\text{Var}[\\breve{X}_i - \\text{E}[X]] = \\text{E}[|\\breve{X}_i - \\text{E}[X]|^2] - \\text{E}[|\\breve{X}_i - \\text{E}[X]|]^2 \\leq \\text{E}[|\\breve{X}_i - \\text{E}[X]|^2] $$\n",
    "\n",
    "(and so the upper bound implies the variance exists and is finite.)"
   ]
  },
  {
   "cell_type": "markdown",
   "metadata": {},
   "source": [
    "**(c)**  By construction,\n",
    "\n",
    "$$ \n",
    "\\overline{X} - b \\leq \\breve{X} \\leq \\overline{X} + b \n",
    "\\Longleftrightarrow -b \\leq \\breve{X} - \\overline{X} \\leq b \n",
    "\\Longleftrightarrow |\\breve{X} - \\overline{X}| \\leq b\n",
    "$$\n",
    "\n",
    "- If $\\omega$ is such that $X(\\omega) \\geq \\overline{X}$, then $X(\\omega) - \\overline{X} \\geq \\breve{X}(\\omega) - \\overline{X} \\geq 0$, so $|X(\\omega) - \\overline{X}| \\geq |\\breve{X}(\\omega) - \\overline{X}|$.  \n",
    "- If $\\omega$ is such that $X(\\omega) \\leq \\overline{X}$, then $X(\\omega) - \\overline{X} \\leq \\breve{X}(\\omega) - \\overline{X} \\leq 0$, so $|X(\\omega) - \\overline{X}| \\geq |\\breve{X}(\\omega) - \\overline{X}|$. \n",
    "\n",
    "Therefore, for every $\\omega \\in \\Omega$, we have $|\\breve{X} - \\overline{X}| \\leq |X - \\overline{X}|$.\n",
    "\n",
    "Then, from (b),\n",
    "\n",
    "$$ \\sigma_\\breve{X}^2 \\leq \\text{E}[|\\breve{X} - \\overline{X}|^2] \\leq \\text{E}[b|\\breve{X} - \\overline{X}|] = b \\text{E}[|\\breve{X} - \\overline{X}|] $$\n",
    "\n",
    "But $\\text{E}[|X - \\overline{X}|] \\leq \\text{E}[|X| + |\\overline{X}|] \\leq \\text{E}[|X|] + |\\overline{X}| = 2 \\text{E}[|X|]$, so\n",
    "\n",
    "$$ \\sigma_\\breve{X}^2 \\leq b \\text{E}[|\\breve{X} - \\overline{X}|] \\leq 2b \\text{E}[|X|] $$"
   ]
  },
  {
   "cell_type": "markdown",
   "metadata": {},
   "source": [
    "**(d)**  Applying the Chebyshev's inequality \n",
    "\n",
    "$$ \\text{Pr}\\{ \\left| Z - \\text{E}[Z]\\right| \\geq \\epsilon \\} \\leq \\frac{\\sigma_Z^2}{\\epsilon^2} \\quad \\text{for every } \\epsilon > 0 $$\n",
    "\n",
    "to the sample average of the truncated values, $\\breve{S}_n / n$, and replacing $\\epsilon$ by $\\epsilon / 2$,\n",
    "\n",
    "$$ \\text{Pr}\\left\\{ \\left| \\frac{\\breve{S}_n}{n} - \\text{E}[\\breve{X}]\\right| \\geq \\frac{\\epsilon}{2} \\right\\} \\leq \\frac{4 \\sigma_\\breve{X}^2}{n \\epsilon^2} \\quad \\text{for every } \\epsilon > 0 $$\n",
    "\n",
    "Using the result from (c), $\\sigma_\\breve{X}^2 \\leq 2 b \\text{E}[|X|]$, we get\n",
    "\n",
    "$$ \\text{Pr}\\left\\{ \\left| \\frac{\\breve{S}_n}{n} - \\text{E}[\\breve{X}]\\right| \\geq \\frac{\\epsilon}{2} \\right\\} \\leq \\frac{4 \\sigma_\\breve{X}^2}{n \\epsilon^2} \\leq \\frac{8b \\text{E}[|X|]}{n\\epsilon^2} $$"
   ]
  },
  {
   "cell_type": "markdown",
   "metadata": {},
   "source": [
    "**(e)**  We have a discrete probability mass at $\\breve{X} = X = 0$:\n",
    "\n",
    "$$\n",
    "\\text{Pr}\\{\\breve{X} = X\\} = \\text{Pr}\\{\\overline{X} - b \\leq X \\leq \\overline{X} + b\\} = F_X(\\overline{X} + b) - F_X(\\overline{X} - b)\n",
    "$$\n",
    "\n",
    "while the cumulative density function on the positive region, $x > 0$, is\n",
    "\n",
    "$$ \\text{Pr}\\{\\breve{X} - X \\leq x\\} = 1 - \\text{Pr}\\{\\breve{X} - X \\geq x\\} = 1 - \\text{Pr}\\{ X \\leq \\overline{X} - b - x\\} = 1 - F_X(\\overline{X} - b - x) $$\n",
    "\n",
    "and the cumulative density function on the negative region, $x < 0$, is\n",
    "\n",
    "$$ \\text{Pr}\\{\\breve{X} - X \\leq x\\} = \\text{Pr}\\{X \\geq \\overline{X} + b - x\\} = 1 - \\text{Pr}\\{ X \\leq \\overline{X} + b - x\\} = 1 - F_X(\\overline{X} + b - x) $$"
   ]
  },
  {
   "cell_type": "code",
   "execution_count": 1,
   "metadata": {},
   "outputs": [
    {
     "data": {
      "image/png": "[encoded data removed]",
      "text/plain": [
       "<Figure size 864x576 with 2 Axes>"
      ]
     },
     "metadata": {
      "needs_background": "light"
     },
     "output_type": "display_data"
    }
   ],
   "source": [
    "import numpy as np\n",
    "from scipy.stats import norm\n",
    "import matplotlib.pyplot as plt\n",
    "%matplotlib inline\n",
    "\n",
    "mu = 0.4\n",
    "nn = np.arange(mu - 4, mu + 4, step=1e-3)\n",
    "\n",
    "def F_brevex(x, b):\n",
    "    return np.where(x < mu - b, 0, np.where(x > mu + b, 1, norm.cdf(x, loc=mu)))\n",
    "\n",
    "def F_minus(x, b):\n",
    "    return np.where(x < 0, 1 - norm.cdf(mu + b - x, loc=mu), 1 - norm.cdf(mu - b - x, loc=mu))\n",
    "\n",
    "plt.figure(figsize=(12, 8))\n",
    "\n",
    "ax = plt.subplot(2, 1, 1)\n",
    "ax.plot(nn, norm.cdf(nn, loc=mu), label=r'$F_X(x)$', color='C0')\n",
    "ax.plot(nn, F_brevex(nn, 0.25), label=r'$F_\\breve{X}(x), b = 0.25 $', color='C1')\n",
    "ax.plot(nn, F_brevex(nn, 0.5), label=r'$F_\\breve{X}(x), b = 0.5 $', color='C2')\n",
    "ax.plot(nn, F_brevex(nn, 1), label=r'$F_\\breve{X}(x), b = 1 $', color='C3')\n",
    "ax.vlines(mu, ymin=0, ymax=1, linestyle='dashed', alpha=0.5)\n",
    "ax.set_xlabel('x')\n",
    "ax.legend(loc='upper left')\n",
    "ax.set_title('X ~ N(0.4, 1)')\n",
    "\n",
    "nn = np.arange(- 4,  4, step=1e-3)\n",
    "ax = plt.subplot(2, 1, 2)\n",
    "ax.plot(nn, F_minus(nn, 0), label=r'$b = 0$', color='C0')\n",
    "ax.plot(nn, F_minus(nn, 0.25), label=r'$b = 0.25$', color='C1')\n",
    "ax.plot(nn, F_minus(nn, 0.5), label=r'$b = 0.5$', color='C2')\n",
    "ax.plot(nn, F_minus(nn, 1), label=r'$b = 1$', color='C3')\n",
    "ax.set_xlabel('x')\n",
    "ax.legend(loc='upper left')\n",
    "ax.set_title(r'CDF of ${\\breve{X} - X}$')\n",
    "\n",
    "plt.tight_layout()\n",
    "plt.show()"
   ]
  },
  {
   "cell_type": "markdown",
   "metadata": {},
   "source": [
    "(1.34) states that\n",
    "\n",
    "$$ \\text{E}[X] = -\\int_{-\\infty}^0 F_X(x) dx + \\int_0^\\infty F_X^c(x) dx $$\n",
    "\n",
    "For a sufficiently large $b$, the probability mass for $X - \\breve{X}$ set at 0 can be arbitrarily close to 1 -- increasing $b$ shifts more and more of the event space into $F_X(\\overline{X} + b) - F_X(\\overline{X} - b)$; this is seen on the plot as the jump at $x = 0$.  Then we can, for example, increase $b$ to $b'$ to ensure that\n",
    "\n",
    "$$ F_X^c(\\overline{X} - b' - x) \\leq 2 F_X^c(\\overline{X} - b - x) \\quad \\text{for all } x > 0 $$\n",
    "\n",
    "and\n",
    "\n",
    "$$ F_X^c(\\overline{X} + b' - x) \\leq 2 F_X^c(\\overline{X} + b - x) \\quad \\text{for all } x < 0 $$\n",
    "\n",
    "Applying such a step we can ensure that $\\text{E}[\\breve{X} - X]$ is divided at least by a factor or 2.  Therefore,we can apply this step (selecting a new $b$) as many times as needed to make the expectation arbitrarily close to 0, and for any $\\epsilon > 0$ we can pick $b$ such that $|\\text{E}[\\breve{X} - X]| < \\epsilon / 2$.\n",
    "\n",
    "Finally, as a triangular inequality,\n",
    "\n",
    "$$ \\left| \\frac{\\breve{S}_n}{n} - \\text{E}[\\breve{X}]\\right| + | \\text{E}[\\breve{X}] - \\text{E}[X] |\n",
    "\\geq \\left| \\frac{\\breve{S}_n}{n} - \\text{E}[X] \\right|  $$\n",
    "\n",
    "and $ |\\text{E}[\\breve{X} - \\text{E}[X]| \\geq | \\text{E}[\\breve{X}] - \\text{E}[X] | $, so\n",
    "\n",
    "$$ \\left| \\frac{\\breve{S}_n}{n} - \\text{E}[X] \\right| \\leq \\epsilon \\Longrightarrow \\left| \\frac{\\breve{S}_n}{n} - \\text{E}[\\breve{X}]\\right| \\leq \\frac{\\epsilon}{2} $$\n",
    "\n",
    "and so, using the result from (d),\n",
    "\n",
    "$$ \\text{Pr}\\left\\{ \\left| \\frac{\\breve{S}_n}{n} - \\text{E}[X] \\right| \\leq \\epsilon \\right\\} \\leq \\text{Pr}\\left\\{ \\left| \\frac{\\breve{S}_n}{n} - \\text{E}[\\breve{X}]\\right| \\leq \\frac{\\epsilon}{2} \\right\\} \\leq \\frac{8b \\text{E}[|X|]}{n\\epsilon^2} $$"
   ]
  },
  {
   "cell_type": "markdown",
   "metadata": {},
   "source": [
    "**(f)**  (1.96) states that\n",
    "\n",
    "$$ \\text{Pr}\\left\\{ \\left| \\frac{S_n}{n} - \\text{E}[X] \\right| \\leq \\epsilon \\right\\} \\leq \\frac{8b \\text{E}[|X|]}{n\\epsilon^2} + \\frac{n}{b}\\left[ b\\;\\text{Pr}\\left\\{ |X - \\text{E}[X] > b \\right\\} \\right] $$ \n",
    "\n",
    "As suggested in the exercise and as in (1.95),\n",
    "\n",
    "$$ \\text{Pr}\\left\\{ \\left| \\frac{S_n}{n} - \\text{E}[X] \\right| > \\epsilon \\right\\}\n",
    "\\leq \\text{Pr}\\left\\{ \\left| \\frac{\\breve{S}_n}{n} - \\text{E}[X] \\right| > \\epsilon \\right\\}\n",
    "+ \\text{Pr}\\left\\{ S_n \\neq \\breve{S}_n \\right\\}\n",
    "$$\n",
    "\n",
    "and $S_n \\neq \\breve{S}_n$ occurs only if one of the $X_i$ escapes the clipping bounds, i.e. $|X_i - \\overline{X}| > b$.  Thus  $\\text{Pr}\\left\\{ S_n \\neq \\breve{S}_n \\right\\} = n \\text{Pr}\\left\\{ |X - \\text{E}[X] > b \\right\\} $, and so (1.96) follows."
   ]
  },
  {
   "cell_type": "markdown",
   "metadata": {},
   "source": [
    "**Exercise 1.42**.  Let $\\{X_i: i \\geq 1\\}$ be IID random variables with mean 0 and infinite variance.  Assume that $\\text{E}[|X_i|^{1 + h}] = \\beta$ for some given $h$, $0 < h < 1$ and some finite $\\beta$.  Let $S_n = X_1 + \\dots + X_n$.\n",
    "\n",
    "**(a)** Show that $\\text{Pr}\\{|X_i| \\geq y\\} \\leq \\beta y^{-1-h}$.\n",
    "\n",
    "**(b)** Let $\\{\\breve{X}_i: i \\geq 1\\}$ be truncated variables defined as \n",
    "\n",
    "$$ \n",
    "\\breve{X}_i = \\begin{cases}\n",
    "b &\\text{if } X_i \\geq b \\\\\n",
    "X_i &\\text{if } -b \\leq X_i \\leq b \\\\\n",
    "-b &\\text{if} X_i \\leq -b\n",
    "\\end{cases}\n",
    "$$\n",
    "\n",
    "Show that $\\text{E}[\\breve{X}^2] \\leq 2 \\beta b^{1-h}/(1-h)$.  Hint:  For a non-negative random variable $Z$, $\\text{E}[Z^2] = \\int_0^\\infty 2 z \\text{Pr}\\{Z \\geq z\\} dz$ (you can establish this, if you wish, by integration by parts).\n",
    "\n",
    "**(c)** Let $\\breve{S}_n = \\breve{X}_1 + \\cdots + \\breve{X}_n$.  Show that $\\text{Pr}\\{ S_n \\neq \\breve{S}_n \\} \\leq n \\beta b^{-1-h}$.\n",
    "\n",
    "**(d)** Show that\n",
    "\n",
    "$$ \\text{Pr}\\left\\{ \\left| \\frac{S_n}{n} \\right| \\geq \\epsilon \\right\\} \\leq \\beta \\left[ \\frac{2b^{1-h}}{(1-h)n\\epsilon^2} + \\frac{n}{b^{1+h}} \\right] $$\n",
    "\n",
    "**(e)** Optimize your bound with respect to $b$.  How fast does this optimized bound approach 0 with increasing $n$?"
   ]
  },
  {
   "cell_type": "markdown",
   "metadata": {},
   "source": [
    "**Solution**."
   ]
  },
  {
   "cell_type": "markdown",
   "metadata": {},
   "source": [
    "**(a)**  The result is immediate from Markov's inequality:\n",
    "\n",
    "$$ \\text{Pr}\\{|X_i| \\geq y\\} = \\text{Pr}\\{|X_i|^{1+h} \\geq y^{1+h}\\} \\leq \\frac{\\text{E}[|X_i|^{1+h}]}{y^{1+h}} = \\beta y^{-1-h} $$"
   ]
  },
  {
   "cell_type": "markdown",
   "metadata": {},
   "source": [
    "**(b)**  Let's establish the hint result.\n",
    "\n",
    "$$ \\text{E}[Z^2] = \\int_0^\\infty \\text{Pr}\\left\\{Z^2 \\geq t \\right\\} dt = \\int_0^\\infty \\text{Pr}\\left\\{Z \\geq \\sqrt{t} \\right\\} dt = \\int_0^\\infty 2z \\text{Pr}\\left\\{Z \\geq z \\right\\} dz$$\n",
    "\n",
    "Now, we have\n",
    "\n",
    "$$\\begin{align}\n",
    "\\text{E}[\\breve{X}^2] &= \\int_0^\\infty 2x \\text{Pr}\\left\\{\\breve{X} \\geq x \\right\\} dx = \\int_0^b 2x \\text{Pr}\\left\\{\\breve{X} \\geq x \\right\\} dx \\\\\n",
    "&\\leq \\int_0^b 2x \\beta x^{-1-h} dx = 2 \\beta \\int_0^b x^{-h} dx \\\\\n",
    "&= 2\\beta \\frac{b^{1 - h}}{1 - h}\n",
    "\\end{align}\n",
    "$$"
   ]
  },
  {
   "cell_type": "markdown",
   "metadata": {},
   "source": [
    "**(c)**  We have $S_n \\neq \\breve{S}_n$ if and only if one of the $X_i$'s is outside of the clipping bounds, which occurs with probability \n",
    "\n",
    "$$ \\text{Pr}\\left\\{ S_n \\neq \\breve{S}_n \\right\\} \\leq \\sum_i \\text{Pr}\\left\\{ |X_i| \\geq b \\right\\} = n \\cdot \\text{Pr}\\left\\{ |X| \\geq b \\right\\} \\leq n\\beta b^{-1-h} $$"
   ]
  },
  {
   "cell_type": "markdown",
   "metadata": {},
   "source": [
    "**(d)**  Applying Markov's inequality,\n",
    "\n",
    "$$ \\text{Pr}\\left\\{ \\left| \\frac{\\breve{S}_n}{n} \\right| \\geq \\epsilon \\right\\} = \\text{Pr}\\left\\{ \\frac{\\breve{S}_n^2}{n^2} \\geq \\epsilon^2 \\right\\} \\leq \\frac{\\text{E}[\\breve{S}_n^2]}{n^2\\epsilon^2} $$\n",
    "\n",
    "but \n",
    "\n",
    "$$ \\text{E}[\\breve{S}_n^2] = \\text{E}\\left[ \\left( \\sum_{i=1}^n \\breve{X}_i \\right)^2 \\right] = \\sum_{i=1}^n \\text{E}[\\breve{X}_i^2] + \\sum_{i=1}^n \\sum_{j=1; j \\neq i}^n \\text{E}[\\breve{X}_i] \\text{E}[\\breve{X}_j] = n \\text{E}[\\breve{X}^2] + n(n-1) \\text{E}[\\breve{X}]^2 \\leq n \\text{E}[\\breve{X}^2] \\leq 2n\\beta \\frac{b^{1-h}}{1 - h} $$\n",
    "\n",
    "where we used independence of the $\\breve{X}_i$'s when expanding the squares to get $\\text{E}[\\breve{X}_i \\breve{X}_j] = \\text{E}[\\breve{X}_i] \\text{E}[\\breve{X}_j]$.\n",
    "\n",
    "Therefore, the bound above becomes \n",
    "\n",
    "$$ \\text{Pr}\\left\\{ \\left| \\frac{\\breve{S}_n}{n} \\right| \\geq \\epsilon \\right\\} \\leq \\frac{\\text{E}[\\breve{S}_n^2]}{n^2\\epsilon^2} \\leq \\frac{2\\beta b^{1-h}}{(1 - h) n\\epsilon^2} $$\n",
    "\n",
    "Now, as in the previous exercise, we can break down the events where $S_n = \\breve{S}_n$ and $S_n \\neq \\breve{S}_n$, so\n",
    "\n",
    "$$ \\text{Pr}\\left\\{ \\left| \\frac{S_n}{n} \\right| \\geq \\epsilon \\right\\} =\n",
    " \\text{Pr}\\left\\{ \\left( \\left| \\frac{S_n}{n} \\right| \\geq \\epsilon \\right) \\cap \\left( S_n = \\breve{S}_n \\right) \\right\\} \n",
    "+  \\text{Pr}\\left\\{ \\left( \\left| \\frac{S_n}{n} \\right| \\geq \\epsilon \\right) \\cap \\left( S_n \\neq \\breve{S}_n \\right) \\right\\} \n",
    " $$\n",
    " \n",
    "For the first term,\n",
    "\n",
    "$$ \\text{Pr}\\left\\{ \\left( \\left| \\frac{S_n}{n} \\right| \\geq \\epsilon \\right) \\cap \\left( S_n = \\breve{S}_n \\right) \\right\\} \n",
    "\\leq \\text{Pr}\\left\\{ \\left| \\frac{\\breve{S}_n}{n} \\right| \\geq \\epsilon \\right\\} \\leq \\frac{2\\beta b^{1-h}}{(1 - h) n\\epsilon^2} $$\n",
    "\n",
    "and for the second term, from (c),\n",
    "\n",
    "$$ \\text{Pr}\\left\\{ \\left( \\left| \\frac{S_n}{n} \\right| \\geq \\epsilon \\right) \\cap \\left( S_n \\neq \\breve{S}_n \\right) \\right\\}  \\leq \\text{Pr}\\left\\{  S_n \\neq \\breve{S}_n \\right\\} \\leq n\\beta b^{-1-h} $$\n",
    "\n",
    "Adding together these two inequalities, we get the desired result,\n",
    "\n",
    "$$ \\text{Pr}\\left\\{ \\left| \\frac{S_n}{n} \\right| \\geq \\epsilon \\right\\} \\leq \\text{Pr}\\left\\{ \\left| \\frac{S_n}{n} \\right| \\geq \\epsilon \\right\\} \\leq \\beta \\left[ \\frac{2b^{1-h}}{(1-h)n\\epsilon^2} + \\frac{n}{b^{1+h}} \\right] $$"
   ]
  },
  {
   "cell_type": "markdown",
   "metadata": {},
   "source": [
    "**(e)** We wish to minimize the bound, which occurs for \n",
    "\n",
    "$$ \n",
    "\\begin{align}\n",
    "\\frac{d}{db} \\left[ \\frac{2b^{1-h}}{(1-h)n\\epsilon^2} + \\frac{n}{b^{1+h}} \\right] &= 0 \\\\\n",
    "\\frac{b^{-h}}{n} \\left( \\frac{2}{\\epsilon^2} - \\frac{(1+h)n^2}{b^2} \\right) &= 0 \\\\\n",
    "b &= n \\epsilon \\sqrt{\\frac{1 + h}{2}}\n",
    "\\end{align}\n",
    "$$\n",
    "\n",
    "where we used that $b > 0$.  Replacing this choice of $b$ back into\n",
    "\n",
    "$$ \\text{Pr}\\left\\{ \\left| \\frac{S_n}{n} \\right| \\geq \\epsilon \\right\\} \\leq \\beta \\left[ \\frac{2b^{1-h}}{(1-h)n\\epsilon^2} + \\frac{n}{b^{1+h}} \\right] $$\n",
    "\n",
    "we get\n",
    "\n",
    "$$ \\text{Pr}\\left\\{ \\left| \\frac{S_n}{n} \\right| \\geq \\epsilon \\right\\} \\leq \\frac{ 2^{(h + 3)/2} \\beta }{\\epsilon^{1 + h}n^h (1 - h) (1 + h)^{(h + 1)/2}} $$\n",
    "\n",
    "This bound approaches 0 as $O(n^{-h})$."
   ]
  },
  {
   "cell_type": "markdown",
   "metadata": {},
   "source": [
    "**Exercise 1.43 (MS convergence implies convergence in probability)**.  Assume that $\\{Z_n : n \\geq 1\\}$ is a sequence of random variables and $\\alpha$ is a number with the property that $\\lim_{n \\rightarrow \\infty} \\text{E}[(Z_n - \\alpha)^2] = 0$.\n",
    "\n",
    "**(a)** Let $\\epsilon > 0$ be arbitrary and show that for each $n \\geq 0$,\n",
    "\n",
    "$$ \\text{Pr}\\left\\{ |Z_n - \\alpha| \\geq \\epsilon \\right\\} \\leq \\frac{\\text{E}[(Z_n - \\alpha)^2]}{\\epsilon^2}$$\n",
    "\n",
    "**(b)** For the $\\epsilon$ above, let $\\delta > 0$ be arbitrary.  Show that there is an integer $m$ such that $\\text{E}[(Z_n - \\alpha)^2] \\leq \\epsilon^2 \\delta$ for all $n \\geq m$.\n",
    "\n",
    "**(c)** Show that this implies convergence in probability."
   ]
  },
  {
   "cell_type": "markdown",
   "metadata": {},
   "source": [
    "**Solution**."
   ]
  },
  {
   "cell_type": "markdown",
   "metadata": {},
   "source": [
    "**(a)**  The result follows from Markov's inequality for the random variable $(Z_n - \\alpha)^2$:\n",
    "\n",
    "$$ \\text{Pr}\\left\\{ |Z_n - \\alpha| \\geq \\epsilon \\right\\} = \\text{Pr}\\left\\{ (Z_n - \\alpha)^2 \\geq \\epsilon^2 \\right\\} \\leq \\frac{\\text{E}[(Z_n - \\alpha)^2]}{\\epsilon^2} $$"
   ]
  },
  {
   "cell_type": "markdown",
   "metadata": {},
   "source": [
    "**(b)**   From the property that $\\lim_{n \\rightarrow \\infty} \\text{E}[(Z_n - \\alpha)^2] = 0$, and since the random variable $(Z_n - \\alpha)^2$ is non-negative, for any $\\delta$ there is an integer $m$ such that \n",
    "\n",
    "$$ \\text{E}[(Z_n - \\alpha)^2] \\leq \\delta \\quad \\text{for } n \\geq m$$\n",
    "\n",
    "Now, if we pick in place of $\\delta$ the value $\\epsilon^2 \\delta$, we get\n",
    "\n",
    "$$ \\text{E}[(Z_n - \\alpha)^2] \\leq \\epsilon^2 \\delta \\quad \\text{for } n \\geq m$$"
   ]
  },
  {
   "cell_type": "markdown",
   "metadata": {},
   "source": [
    "**(c)**  Putting together results from (a) and (b), for any $\\delta$ there is an integer $m$ such that for $n \\geq m$,\n",
    "\n",
    "$$ \\text{Pr}\\left\\{ |Z_n - \\alpha| \\geq \\epsilon \\right\\} \\leq \\frac{\\text{E}[(Z_n - \\alpha)^2]}{\\epsilon^2} \\leq \\delta $$\n",
    "\n",
    "and so\n",
    "\n",
    "$$ \\lim_{n \\rightarrow \\infty} \\text{Pr}\\left\\{ |Z_n - \\alpha| \\geq \\epsilon \\right\\} = 0 $$\n",
    "\n",
    "and thus we have convergence in probability."
   ]
  },
  {
   "cell_type": "markdown",
   "metadata": {},
   "source": [
    "**Exercise 1.44**.  Let $X_1, X_2, \\dots$ be a sequence of IID random variables each with mean 0 and variance $\\sigma^2$.  Let $S_n = X_1 + \\cdots + X_n$ for all $n$ and consider the random variable $S_n / \\sigma \\sqrt{n} - S_{2n} / \\sigma \\sqrt{2n}$.  Find the limiting CDF for this sequence of random variables as $n \\rightarrow \\infty$.  The point of this exercise is to clearly see that the CDF of $S_n / \\sigma \\sqrt{n}$ is converging but that the sequence of random variables is not converging."
   ]
  },
  {
   "cell_type": "markdown",
   "metadata": {},
   "source": [
    "**Solution**.  Let $A_n = S_n / \\sigma \\sqrt{n} - S_{2n}/ \\sigma \\sqrt{2n}$.  Then\n",
    "\n",
    "$$ \\text{E}[A_n] = \\frac{1}{\\sigma \\sqrt{n}} \\sum_{i=1}^n \\text{E}[X_i] - \\frac{1}{\\sigma \\sqrt{2n}} \\sum_{i=1}^{2n} \\text{E}[X_i] = \\frac{1}{\\sigma \\sqrt{n}} \\cdot 0 - \\frac{1}{\\sigma \\sqrt{2n}} \\cdot 0 = 0 $$\n",
    "\n",
    "and\n",
    "\n",
    "$$ \n",
    "\\begin{align}\n",
    "\\text{Var}[A_n] &= \\text{Var}\\left[ \\frac{1}{\\sigma \\sqrt{n}} \\left( 1 - \\frac{1}{\\sqrt{2}}\\right) \\sum_{i=1}^n X_i - \\frac{1}{\\sigma \\sqrt{2n}} \\sum_{j=n+1}^{2n} X_j \\right] \\\\\n",
    "&= \\frac{1}{\\sigma^2 n} \\left( 1 - \\frac{1}{\\sqrt{2}}\\right)^2 \\sum_{i=1}^n \\text{Var}[X_i] + \\frac{1}{\\sigma^2 \\cdot 2n} \\sum_{j=n+1}^n \\text{Var}[X_j] \\\\\n",
    "&= 2 - \\sqrt{2}\n",
    "\\end{align}\n",
    "$$\n",
    "\n",
    "It seems intuitive that $A_n$ converges to a normal distribution with mean 0 and variance $2 - \\sqrt{2}$.  Let's prove it.\n",
    "\n",
    "Let $Y_1, Y_2, \\dots$ be another sequence of IID random variables with the same distribution as the $X_i$s, and define\n",
    "\n",
    "$$ Z_i = \\left(1 - \\frac{1}{\\sqrt{2}} \\right) X_i - \\frac{Y_i}{\\sqrt{2}} $$\n",
    "\n",
    "and define their partial sum $T_n = Z_1 + \\cdots + Z_n$.  Note that $\\text{E}[Z_i] = 0$ and $\\text{Var}[Z_i] = \\sigma^2 (2 - \\sqrt{2})$, and\n",
    "\n",
    "$$ \\frac{T_n}{\\sigma \\sqrt{n}} = \\frac{1}{\\sigma \\sqrt{n}} \\sum_{i=1}^n Z_i = \\frac{1}{\\sigma \\sqrt{n}} \\sum_{i=1}^n X_i - \\frac{1}{\\sigma \\sqrt{2n}} \\sum_{j=1}^n Y_j $$\n",
    "\n",
    "has exactly the same distribution as $A_n$ (and so it has mean 0 and variance $2 - \\sqrt{2}$).\n",
    "\n",
    "Now, the central limit theorem on $Z_i$'s states that\n",
    "\n",
    "$$ \\lim_{n \\rightarrow \\infty} \\text{Pr} \\left\\{ \\frac{T_n}{\\sigma \\sqrt{n} \\sqrt{2 - \\sqrt{2}}} \\leq z \\right\\} = \\Phi(z) $$\n",
    "\n",
    "and so $T_n / \\sigma \\sqrt{n} \\sqrt{2 - \\sqrt{2}}$ has limiting distribution $N(0, 1)$, and, as desired, $A_n$ has limiting distribution $N(0, 2 - \\sqrt{2})$."
   ]
  },
  {
   "cell_type": "markdown",
   "metadata": {},
   "source": [
    "**Exercise 1.45**.  Use Figure 1.7 to verify (1.57).  Hint:  Show that $y \\; \\text{Pr}\\{ Y \\geq y \\} \\leq \\int_{z \\geq y} z dF_Y(z)$ and show that $\\lim_{y \\rightarrow \\infty} \\int_{z \\geq y} z dF_Y(z) = 0$ if $\\text{E}[Y]$ is finite."
   ]
  },
  {
   "cell_type": "markdown",
   "metadata": {},
   "source": [
    "**Solution**.  Statement 1.57 is that, for a non-negative random variable $Y$ with finite mean,\n",
    "\n",
    "$$ \\lim_{y \\rightarrow \\infty} y \\; \\text{Pr}\\left\\{ Y \\geq y \\right\\} = 0 $$\n",
    "\n",
    "Note tht we have\n",
    "\n",
    "$$ y \\; \\text{Pr}\\left\\{ Y \\geq y \\right\\} = \\int_{z \\geq y} y dF_Y(z) \\leq \\int_{z \\geq y} z dF_Y(z) $$\n",
    "\n",
    "and\n",
    "\n",
    "$$ \\text{E}[Y] = \\int_{z \\geq 0} z dF_Y(z) = \\int_0^y z dF_Y(z) + \\int_{z \\geq y} z dF_Y(z) $$\n",
    "\n",
    "But $\\lim_{y \\rightarrow \\infty} \\int_0^y z dF_Y(z) = \\int_{z \\geq 0} z dF_Y(z) = \\text{E}[Y]$, so\n",
    "\n",
    "$$ \\lim_{y \\rightarrow \\infty} \\int_{z \\geq y} z dF_Y(z) = \\lim_{y \\rightarrow \\infty} \\text{E}[Y] - \\int_0^y z dF_Y(z) = \\text{E}[Y] - \\lim_{y \\rightarrow \\infty} \\int_0^y z dF_Y(z) = \\text{E}[Y] - \\text{E}[Y] = 0 $$\n",
    "\n",
    "and since, from above, $ 0 \\leq y \\; \\text{Pr}\\left\\{ Y \\geq y \\right\\} \\leq \\int_{z \\geq y} z dF_Y(z)$,\n",
    "\n",
    "$$ 0 \\leq \\lim_{y \\rightarrow \\infty}  y \\; \\text{Pr}\\left\\{ Y \\geq y \\right\\} \\leq \\lim_{y \\rightarrow \\infty} \\int_{z \\geq y} z dF_Y(z) = 0 $$\n",
    "\n",
    "so all inequalities in the last statement are equalities, and $\\lim_{y \\rightarrow \\infty}  y \\; \\text{Pr}\\left\\{ Y \\geq y \\right\\} = 0$."
   ]
  },
  {
   "cell_type": "markdown",
   "metadata": {},
   "source": [
    "**Exercise 1.46**.  Show that $\\prod_{m \\geq n} (1 - 1/m) = 0$.  Hint:  Show that\n",
    "\n",
    "$$ \\left( 1 - \\frac{1}{m} \\right) = \\exp \\left( \\ln \\left(1 - \\frac{1}{m} \\right) \\right) \\leq \\exp\\left( -\\frac{1}{m} \\right) $$"
   ]
  },
  {
   "cell_type": "markdown",
   "metadata": {},
   "source": [
    "**Solution**.  As suggested in the hint, $\\exp$ and $\\ln$ are inverse functions of each other, so\n",
    "\n",
    "$$ \\left( 1 - \\frac{1}{m} \\right) = \\exp \\left( \\ln \\left(1 - \\frac{1}{m} \\right) \\right) $$\n",
    "\n",
    "Next we want to show that, for $m \\geq 2 $,\n",
    "\n",
    "$$ \\ln \\left(1 - \\frac{1}{m} \\right) \\leq - \\frac{1}{m} $$\n",
    "\n",
    "or\n",
    "\n",
    "$$ \\frac{1}{m} \\leq \\ln m - \\ln (m - 1) $$\n",
    "\n",
    "But we can see that is true because\n",
    "\n",
    "$$ \\ln m - \\ln (m - 1) = \\int_{m-1}^m \\frac{1}{x} dx \\geq \\int_{m-1}^m \\frac{1}{m} dx = \\frac{1}{m} $$\n",
    "\n",
    "Now that we have the result of the hint, we can write\n",
    "\n",
    "$$ \\prod_{m \\geq n} \\left( 1 - \\frac{1}{m} \\right) \\leq \\prod_{m \\geq n} \\exp \\left( - \\frac{1}{m} \\right) = \\exp \\left( - \\sum_{m \\geq n} \\frac{1}{m} \\right) = \\exp \\left( -\\infty \\right) = 0$$\n",
    "\n",
    "since the sum $\\sum_{m \\geq n} \\frac{1}{m}$ diverges, i.e. $\\lim_{u \\rightarrow \\infty} \\sum_{m=n}^u \\frac{1}{m} = \\infty$, as it is the harmonic series minus the initial $n$ terms."
   ]
  },
  {
   "cell_type": "markdown",
   "metadata": {},
   "source": [
    "**Exerecise 1.47**.  Consider a discrete random variable $X$ with PMF\n",
    "\n",
    "$$\n",
    "\\begin{align}\n",
    "p_X(-1) &= (1 - 10^{-10}) / 2 \\\\\n",
    "p_X(1) &= (1 - 10^{-10}) / 2 \\\\\n",
    "p_X(10^{12}) &= 10^{-10}\n",
    "\\end{align}\n",
    "$$\n",
    "\n",
    "**(a)** Find the mean and the variance of $X$.  Assuming that $\\{ X_m : m \\geq 1 \\}$ is a IID sequence with the distribution of $X$ and that $S_n = X_1 + \\cdots + X_n$ for each $n$, find the mean and variance of $S_n$. (No explanations needed.)\n",
    "\n",
    "**(b)** Let $n = 10^6$ and describe the event $\\{ S_n \\leq 10^6 \\}$ in words.  Find an exact expression for $\\text{Pr}\\{ S_n \\leq 10^6 \\} = F_{S_n}(10^6)$.\n",
    "\n",
    "**(c)** Find a way to use the union bound to get a simple upper bound and approximation of $1 - F_{S_n}(10^6)$.\n",
    "\n",
    "**(d)** Sketch the CDF of $S_n$ for $n = 10^6$.  You can choose the horizontal axis for your sketch to go from -1 to +1 or from $-3 \\times 10^3$ to $3 \\times 10^3$ or from $-10^6$ to $10^6$ or from $0$ to $10^{12}$, whichever you think will best describe this CDF.\n",
    "\n",
    "**(e)** Now let $n = 10^{10}$.  Give an exact expression for $\\text{Pr}\\{ S_n \\leq 10^{10}\\}$, and show that this can be approximated by $e^{-1}$.  Sketch the CDF of $S_n$ for $n = 10^{10}$, using a horizontal axis going from slightly below 0 to slightly more than $2 \\times 10^{12}$.  Hint:  First view $S_n$ as conditioned on an appropriate random variable.\n",
    "\n",
    "**(f)** Can you make a qualitative statement about how the CDF of a random variable $X$ affects the required size of $n$ before the WLLN and the CLT provide much of an indication about $S_n$."
   ]
  },
  {
   "cell_type": "markdown",
   "metadata": {},
   "source": [
    "**Solution**."
   ]
  },
  {
   "cell_type": "markdown",
   "metadata": {},
   "source": [
    "**(a)** \n",
    "\n",
    "Computing the mean and variance of $X$:\n",
    "\n",
    "$$ \\text{E}[X] = \\sum_j j p_X(j) = (-1) \\cdot \\frac{1 - 10^{-10}}{2} + 1 \\cdot \\frac{1 - 10^{-10}}{2} + 10^{12} \\cdot 10^{-10} = 10^2 $$\n",
    "\n",
    "$$ \\text{E}[X^2] = \\sum_j j^2 p_X(j) = (-1)^2 \\cdot \\frac{1 - 10^{-10}}{2} + 1^2 \\cdot \\frac{1 - 10^{-10}}{2} + (10^{12})^2 \\cdot 10^{-10} = 10^{14} + 1 - 10^{-10} $$\n",
    "\n",
    "$$ \\text{Var}[X] = \\text{E}[X^2] - \\text{E}[X]^2 = 10^{14} - 10^4 + 1 - 10^{-10} $$\n",
    "\n",
    "Computing the mean and variance of $S_n$:\n",
    "\n",
    "$$ \\text{E}[S_n] = n \\text{E}[X] = 10^2 n $$\n",
    "\n",
    "$$ \\text{Var}[S_n] = \\text{Var}\\left[ \\sum_{i=1}^n X_i \\right] = \\sum_{i=1}^n \\text{Var}[X_i] = (10^{14} - 10^4 + 1 - 10^{-10}) n $$"
   ]
  },
  {
   "cell_type": "markdown",
   "metadata": {},
   "source": [
    "**(b)** The event $\\{ S_n \\leq 10^6 \\}$ literally means that the sum of the first $10^6$ variables is at most $10^6$.  For this particular distribution, it also occurs if and only if all $n$ events have values -1 or +1, that is, no rare events with $X_i = 10^{12}$ occur.\n",
    "\n",
    "We can compute this exact probability as the event that no rare events occurred,\n",
    "\n",
    "$$ \\text{Pr} \\left\\{ S_n \\leq 10^6 \\right\\} = \\prod_{i=1}^n \\text{Pr}\\left\\{ X_i \\neq 10^{12} \\right\\} = \\left( 1 - 10^{-10} \\right)^{10^6} $$"
   ]
  },
  {
   "cell_type": "markdown",
   "metadata": {},
   "source": [
    "**(c)** Using the union bound,\n",
    "\n",
    "$$ 1 - F_{S_n}(10^6) = \\text{Pr}\\left\\{ \\cup_{i=1}^n X_i = 10^{12} \\right\\} \\leq \\sum_{i=1}^n \\text{Pr}\\left\\{ X_i = 10^{12} \\right\\} = 10^6 \\cdot 10^{-10} = 10^{-4} $$"
   ]
  },
  {
   "cell_type": "markdown",
   "metadata": {},
   "source": [
    "**(d)**  We can build the sketch for the CDF using the CDF of binomial distribution, conditioned on $S_n \\leq 10^6$."
   ]
  },
  {
   "cell_type": "code",
   "execution_count": 2,
   "metadata": {},
   "outputs": [
    {
     "data": {
      "image/png": "[encoded data removed]",
      "text/plain": [
       "<Figure size 864x576 with 1 Axes>"
      ]
     },
     "metadata": {
      "needs_background": "light"
     },
     "output_type": "display_data"
    }
   ],
   "source": [
    "import numpy as np\n",
    "from scipy.stats import binom\n",
    "import matplotlib.pyplot as plt\n",
    "%matplotlib inline\n",
    "\n",
    "nn = np.arange(5*10**5 -5*10**3, 5*10**5 + 5*10**3, step=1)\n",
    "\n",
    "discount_factor = (1 - 10**(-10))**(10**6)\n",
    "\n",
    "def F(x):\n",
    "    return discount_factor * binom.cdf(x, 10**6, 1/2)\n",
    "\n",
    "plt.figure(figsize=(12, 8))\n",
    "plt.plot(nn, F(nn))\n",
    "plt.xlabel('x')\n",
    "plt.ylabel(r'$F_{S_n}(x)$')\n",
    "plt.title(r'$n = 10^6$')\n",
    "plt.show()"
   ]
  },
  {
   "cell_type": "markdown",
   "metadata": {},
   "source": [
    "**(e)**  Once again, if even one rare event occurs, i.e. if $X_i = 10^{12}$ for at least one $i$, then we will necessarily overshoot and have $S_n \\geq 10^{12} - (10^{10} - 1) > 10^{10}$.  On the other hand, even if all $X_i = 1$, we will not overshoot; in that case, $S_n = 10^{10}$ precisely.  Then we can write\n",
    "\n",
    "$$ \\text{Pr}\\{ S_n \\leq 10^{10} \\} = \\prod_{i=1}^n \\text{Pr}\\left\\{ X_i \\neq 10^{12} \\right\\} = \\left( 1 - 10^{-10}\\right)^{10^{10}}$$\n",
    "\n",
    "But\n",
    "\n",
    "$$ \\lim_{n \\rightarrow \\infty} \\left( 1 - \\frac{1}{n} \\right)^n = e^{-1} $$\n",
    "\n",
    "and so we can approximate this value as $e^{-1}$.\n",
    "\n",
    "To produce the sketch, let's condition the events on the number of rare events produced, $N = \\#\\{ i : X_i = 10^{12} \\}$.  We have:\n",
    "\n",
    "- $ \\text{Pr}\\{ N = 0 \\} = \\text{Pr}\\{ S_n \\leq 10^{10} \\} \\approx e^{-1} $\n",
    "- $ \\text{Pr}\\{ N = 1 \\} = n \\cdot 10^{-12} \\prod_{i=1}^{n - 1} \\text{Pr}\\left\\{ X_i \\neq 10^{12} \\right\\} \\approx 10^{-2} e^{-1} $\n",
    "- $ \\text{Pr} \\{ N = 2 \\} = \\binom{n}{2} (10^{-12})^2 \\prod_{i=1}^{n - 2} \\text{Pr}\\left\\{ X_i \\neq 10^{12} \\right\\} \\approx 5 \\cdot 10^{-5} e^{-1} $"
   ]
  },
  {
   "cell_type": "code",
   "execution_count": 3,
   "metadata": {
    "scrolled": false
   },
   "outputs": [
    {
     "data": {
      "image/png": "[encoded data removed]",
      "text/plain": [
       "<Figure size 864x576 with 1 Axes>"
      ]
     },
     "metadata": {
      "needs_background": "light"
     },
     "output_type": "display_data"
    }
   ],
   "source": [
    "import numpy as np\n",
    "import matplotlib.pyplot as plt\n",
    "%matplotlib inline\n",
    "\n",
    "nn = np.arange(0, 2.1*10**12, step=10**9)\n",
    "\n",
    "n0 = np.exp(-1)\n",
    "n1 = 10**(-2) * np.exp(-1)\n",
    "n2 = 5 * 10**(-5) * np.exp(-1)\n",
    "\n",
    "# Approximate as step functions to cover the whole range and avoid overflow\n",
    "def F(x):\n",
    "    return n0 * np.where(x < 10**12 / 2, 0, 1) \\\n",
    "        + n1 * np.where(x - 10**12 < 10**12 / 2, 0, 1) \\\n",
    "        + n2 * np.where(x - 2 * 10**12 < 10**12 / 2, 0, 1)\n",
    "\n",
    "plt.figure(figsize=(12, 8))\n",
    "plt.plot(nn, F(nn))\n",
    "plt.xlabel('x')\n",
    "plt.ylabel(r'$F_{S_n}(x)$')\n",
    "plt.title(r'$n = 10^{10}$')\n",
    "plt.show()"
   ]
  },
  {
   "cell_type": "markdown",
   "metadata": {},
   "source": [
    "**(f)**  Convergence as indicated by the WLLN and the CLT can be extremely slow for distributions with long tails; the WLLN and the CLT provide no guarantees about the speed of convergence."
   ]
  },
  {
   "cell_type": "markdown",
   "metadata": {},
   "source": [
    "**Exercise 1.48**.  Let $\\{Y_n : n \\geq 1\\}$ be a sequence of random variables and assume that $\\lim_{n \\rightarrow \\infty} \\text{E}[|Y_n|] = 0$.  Show that $\\{Y_n : n \\geq 1\\}$ converges to 0 in probability.  Hint 1: Look for the easy way.  Hint 2:  The easy way uses the Markov inequality."
   ]
  },
  {
   "cell_type": "markdown",
   "metadata": {},
   "source": [
    "**Solution**.  Using Markov's inequality,\n",
    "\n",
    "$$ \\text{Pr}\\{ |Y_n| \\leq \\epsilon \\} \\leq \\frac{\\text{E}[|Y_n|]}{\\epsilon} $$\n",
    "\n",
    "Taking the limit as $n \\rightarrow \\infty$, for any $\\epsilon > 0$,\n",
    "\n",
    "$$ \\lim_{n \\rightarrow \\infty} \\text{Pr}\\{ |Y_n - 0| \\leq \\epsilon \\} \\leq \\lim{n \\rightarrow \\infty} \\frac{\\text{E}[|Y_n|]}{\\epsilon} = 0 $$\n",
    "\n",
    "and so we have that the sequence $\\{ Y_n : n \\geq 1 \\}$ converges to 0 in probability."
   ]
  }
 ],
 "metadata": {
  "kernelspec": {
   "display_name": "Python 3",
   "language": "python",
   "name": "python3"
  },
  "language_info": {
   "codemirror_mode": {
    "name": "ipython",
    "version": 3
   },
   "file_extension": ".py",
   "mimetype": "text/x-python",
   "name": "python",
   "nbconvert_exporter": "python",
   "pygments_lexer": "ipython3",
   "version": "3.7.3"
  }
 },
 "nbformat": 4,
 "nbformat_minor": 2
}
