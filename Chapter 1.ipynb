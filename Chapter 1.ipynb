{
 "cells": [
  {
   "cell_type": "markdown",
   "metadata": {},
   "source": [
    "### 1.10 Exercises"
   ]
  },
  {
   "cell_type": "markdown",
   "metadata": {},
   "source": [
    "**Exercise 1.1**.  Let $A_1$ and $A_2$ be arbitrary events and show that $\\text{Pr}\\{A_1 \\cup A_2\\} + \\text{Pr}\\{A_1 A_2\\} = \\text{Pr}\\{A_1\\} + \\text{Pr}\\{A_2\\}$.  Explain which parts of the sample space are being double counted on both sides of this equation and which parts are being counted once."
   ]
  },
  {
   "cell_type": "markdown",
   "metadata": {},
   "source": [
    "**Solution**.  Consider the disjoint events $A_1 - A_2, A_2 - A_1, A_1 A_2$, where $X - Y = \\{ \\omega : \\omega \\in X \\text{ and not } \\omega \\in Y \\}$.  \n",
    "\n",
    "By construction these events are disjoint: any event $\\omega$ either:\n",
    "\n",
    "- belongs to $A_1$ but not $A_2$, in which case $\\omega \\in A_1 - A_2$ but it does not belong to $A_2 - A_1$ or $A_1 A_2$;\n",
    "- belongs to $A_2$ but not $A_1$, in which case $\\omega \\in A_2 - A_1$ but it does not belong to $A_1 - A_2$ or $A_1 A_2$;\n",
    "- belongs to both $A_1$ and $A_2$, in which case $\\omega \\in A_1 A_2$ but it does not belong to $A_1 - A_2$ or $A_2 - A_1$;\n",
    "- does not belong to $A_1$ or $A_2$, in which case it does not belong to any of $A_1 - A_2, A_2 - A_1, A_1 A_2$.\n",
    "\n",
    "Also note that:\n",
    "\n",
    "- $(A_1 - A_2) \\cup A_1 A_2 = A_1$, since any event that belongs to $A_1$ either belongs to $A_2$ (in which case it belongs to $A_1 A_2$) or not (in which case it belongs to $A_1 - A_2$).\n",
    "- $(A_2 - A_1) \\cup A_1 A_2 = A_2$, by a similar argument.\n",
    "- $(A_1 - A_2) \\cup (A_2 - A_1) \\cup A_1 A_2 = A_1 \\cup A_2$, by applying the union over the previous two statements.\n",
    "\n",
    "By the third axiom of probability (using the finite version -- add infinitely many empty to get an infinite sequence) we get:\n",
    "\n",
    "1.  $\\text{Pr}\\{A_1 - A_2\\} + \\text{Pr}\\{ A_1 A_2 \\} = \\text{Pr}\\{A_1\\} $\n",
    "2.  $\\text{Pr}\\{A_2 - A_1\\} + \\text{Pr}\\{ A_1 A_2 \\} = \\text{Pr}\\{A_2\\} $\n",
    "3.  $\\text{Pr}\\{A_1 \\cup A_2 \\} = \\text{Pr}\\{A_1 - A_2\\} + \\text{Pr}\\{ A_2 - A_1 \\} + \\text{Pr}\\{ A_1 A_2 \\}$\n",
    "\n",
    "Adding these three statements, we get the desired result,\n",
    "\n",
    "$$\\text{Pr}\\{A_1 \\cup A_2\\} + \\text{Pr}\\{A_1 A_2\\} = \\text{Pr}\\{A_1\\} + \\text{Pr}\\{A_2\\}$$\n",
    "\n",
    "Note that:\n",
    "\n",
    "- If $\\omega \\in A_1$ and $\\omega \\in A_2$, it is counted twice in each side of the equation -- once in $\\text{Pr}\\{A_1 \\cup A_2\\}$, once in $\\text{Pr}\\{A_1 A_2\\}$, once in $\\text{Pr}\\{A_1\\}$ and once in $\\text{Pr}\\{A_2\\}$.\n",
    "- If $\\omega \\in A_1$ but $\\text{not } \\omega \\in A_2$, it is counted once in each side of the equation -- once in $\\text{Pr}\\{A_1 \\cup A_2\\}$ and once in $\\text{Pr}\\{A_1\\}$.\n",
    "- If $\\omega \\in A_2$ but $\\text{not } \\omega \\in A_1$, it is counted once in each side of the equation -- once in $\\text{Pr}\\{A_1 \\cup A_2\\}$ and once in $\\text{Pr}\\{A_2\\}$.\n",
    "- If $\\text{not } \\omega \\in A_1$ and $\\text{not } \\omega \\in A_2$, it is counted zero times in each side of the equation."
   ]
  },
  {
   "cell_type": "markdown",
   "metadata": {},
   "source": [
    "**Exercise 1.2**.  This exercise derives the probability of an arbitrary (non-disjoint) union of events, derives the union bound, and derives some useful limit expressions.\n",
    "\n",
    "**(a)** For two arbitrary events $A_1$ and $A_2$, show that\n",
    "\n",
    "$$ A_1 \\cup A_2 = A_1 \\cup (A_2 - A_1) \\quad \\text{where } A_2 - A_1 = A_2 A_1^c$$\n",
    "\n",
    "Show that $A_1$ and $A_2 - A_1$ are disjoint.  Hint:  Venn diagrams were invented to help understand expressions like these.\n",
    "\n",
    "**(b)** For an arbitrary sequence of events, $\\{A_n : n \\geq 1\\}$, let $B_1 = A_1$ and for each $n \\geq 2$ define $B_n = A_n - \\cup_{m=1}^{n - 1} A_m$.  Show that $B_1, B_2, \\dots$ are disjoint events and show that for each $n \\geq 2$, $\\cup_{m=1}^n A_m = \\cup_{m=1}^n B_m$.  Hint: Use induction.\n",
    "\n",
    "**(c)** Show that\n",
    "\n",
    "$$ \\text{Pr}\\left\\{ \\cup_{n=1}^\\infty A_n \\right\\} = \\text{Pr}\\left\\{ \\cup_{n=1}^\\infty B_n \\right\\} = \\sum_{n=1}^\\infty \\text{Pr} \\left\\{ B_n \\right\\} $$\n",
    "\n",
    "Hint: Use the axioms of probability for the second equality.\n",
    "\n",
    "**(d)** Show that for each $n$, $\\text{Pr}\\left\\{ B_n \\right\\} \\leq \\text{Pr} \\left\\{ A_n \\right\\}$.  Use this to show that\n",
    "\n",
    "$$ \\text{Pr}\\left\\{ \\cup_{n=1}^\\infty A_n \\right\\} \\leq \\sum_{n=1}^\\infty \\text{Pr} \\left\\{ A_n \\right\\} $$\n",
    "\n",
    "**(e)** Show that $\\text{Pr}\\left\\{ \\cup_{n=1}^\\infty A_n \\right\\} = \\lim_{m \\rightarrow \\infty} \\text{Pr} \\left\\{ \\cup_{n=1}^m A_n \\right\\}$.  Hint: Combine (c) and (b).  Note that this says that the probability of a limit of unions is equal to the limit of probabilities.  This might well appear to be obvious without a proof, but you will see situations later where similar appearing interchanges cannot be made.\n",
    "\n",
    "**(f)** Show that $\\text{Pr}\\left\\{ \\cap_{n=1}^\\infty A_n \\right\\} = \\lim_{n \\rightarrow \\infty} \\text{Pr}\\left\\{ \\cap_{i=1}^n A_i \\right\\}$.  Hint: Remember De Morgan's equalities."
   ]
  },
  {
   "cell_type": "markdown",
   "metadata": {},
   "source": [
    "**Solution**."
   ]
  },
  {
   "cell_type": "markdown",
   "metadata": {},
   "source": [
    "**(a)**  We have:\n",
    "\n",
    "$$ \n",
    "\\begin{align}\n",
    "&\\omega \\in A_1 \\cup A_2 \\\\\n",
    "&\\Longleftrightarrow (\\omega \\in A_1) \\lor (\\omega \\in A_2) \\\\\n",
    "&\\Longleftrightarrow (\\omega \\in A_1) \\lor (\\omega \\in A_2 \\land \\neg(\\omega \\in A_1)) \\\\\n",
    "&\\Longleftrightarrow (\\omega \\in A_1) \\lor (\\omega \\in (A_2 - A_1)) \\\\\n",
    "&\\Longleftrightarrow \\omega \\in A_1 \\cup (A_2 - A_1) \\\\\n",
    "\\end{align}\n",
    "$$\n",
    "\n",
    "where we can explicitly verify the third step with a truth table:\n",
    "\n",
    "$$\n",
    "\\begin{array}{cc|c|c}\n",
    "\\omega \\in A_1 & \\omega \\in A_2 & (\\omega \\in A_1) \\lor (\\omega \\in A_2) & (\\omega \\in A_1) \\lor (\\omega \\in A_2 \\land \\neg(\\omega \\in A_1)) \\\\\n",
    "\\hline\n",
    "T & T & T & T \\\\\n",
    "T & F & T & T \\\\\n",
    "F & T & T & T \\\\\n",
    "F & F & F & F\n",
    "\\end{array}\n",
    "$$\n",
    "\n",
    "Since the sets $A_1 \\cup A_2$ and $A_1 \\cup (A_2 - A_1)$ have equivalent statements determining whether a granular event $\\omega$ belongs to them, they are equal,\n",
    "\n",
    "$$ A_1 \\cup A_2 = A_1 \\cup (A_2 - A_1) $$"
   ]
  },
  {
   "cell_type": "markdown",
   "metadata": {},
   "source": [
    "**(b)**  Let's use induction.\n",
    "\n",
    "For the base case, $n = 2$, we have $B_2 = A_2 - A_1$.  \n",
    "- Note that $B_1 = A_1$ and $B_2$ are disjoint events by construction: every element from $A_1$ is explicitly excluded from $B_2$.  \n",
    "- Also note that $A_1 \\cup A_2 = B_1 \\cup B_2$, since $B_1 \\cup B_2 = A_1 \\cup (A_2 - A_1)$, and this is the result proved in (a).\n",
    "\n",
    "For the induction step, assume the result is true for $n$.  \n",
    "- Since $B_{n + 1} = A_n - \\cup_{i=1}^n A_m$, any element belonging to $B_{n+1}$ will not belong to any of the $A_m$ for $1 \\leq m \\leq n$ by construction, and since from the previous step $\\cup_{m=1}^n A_m = \\cup_{m=1}^n B_m$, it will also not belong to any $B_m$, $1 \\leq m \\leq n$.  Therefore there is no overlap between $B_{n + 1}$ and $B_m$, and the $B_i$'s are disjoint.\n",
    "- Finally, note that, from applying (a) on sets $A_{n + 1}$ and $\\cup_{m=1}^n A_m$,\n",
    "\n",
    "$$ \n",
    "\\begin{align}\n",
    "A_{n + 1} \\cup \\left( \\cup_{m=1}^n A_m \\right) &= \\left( \\cup_{m=1}^n A_m \\right) \\cup \\left(A_{n+1} - \\left( \\cup_{m=1}^n A_m \\right)  \\right) \\\\ \n",
    "A_{n + 1} \\cup \\left( \\cup_{m=1}^n A_m \\right) &= \\left( \\cup_{m=1}^n B_m \\right) \\cup B_{n+1} \\\\\n",
    "\\cup_{m=1}^{n+1} A_m &= \\cup_{m=1}^{n+1} B_m \n",
    "\\end{align}\n",
    "$$"
   ]
  },
  {
   "cell_type": "markdown",
   "metadata": {},
   "source": [
    "**(c)**  The result follows from the third axiom of inequality, since all of the $B_i$'s are disjoint by (b)."
   ]
  },
  {
   "cell_type": "markdown",
   "metadata": {},
   "source": [
    "**(d)**  We have $B_n = A_n - \\cup_{m=1}^{n - 1} A_m = A_n - \\cup_{m=1}^{n - 1} B_m$, and so uniting both sides to $\\cup_{m=1}^{n - 1} B_m$ we get $\\cup_{m=1}^{n} B_m = A_n$.  Since the $B_i$'s are disjoint, by the third axiom of probability we have\n",
    "\n",
    "$$ \\text{Pr}\\left\\{A_n\\right\\} = \\sum_{m=1}^n \\text{Pr}\\left\\{ B_m \\right\\} = \\sum_{m=1}^{n - 1} \\text{Pr}\\left\\{ B_m \\right\\} + \\text{Pr}\\left\\{B_n\\right\\}$$\n",
    "\n",
    "and, since for the first axiom of probability,  $\\text{Pr} \\left\\{ B_m \\right\\} \\geq 0$ for $1 \\leq m \\leq n - 1$, we get\n",
    "\n",
    "$$ \\text{Pr}\\left\\{A_n\\right\\} \\geq \\text{Pr}\\left\\{B_n\\right\\} $$\n",
    "\n",
    "Finally, using this inequality for each $n$, and from (b), we have\n",
    "\n",
    "$$ \\text{Pr}\\left\\{ \\cup_{n=1}^\\infty A_n \\right\\} \n",
    "= \\text{Pr}\\left\\{ \\cup_{n=1}^\\infty B_n \\right\\} \n",
    "= \\sum_{n=1}^\\infty \\text{Pr} \\left \\{ B_n \\right\\}\n",
    "\\leq \\sum_{n=1}^\\infty \\text{Pr} \\left\\{ A_n \\right\\} $$\n"
   ]
  },
  {
   "cell_type": "markdown",
   "metadata": {},
   "source": [
    "**(e)**  The result from (c) states that\n",
    "\n",
    "$$ \\text{Pr}\\left\\{ \\cup_{n=1}^\\infty A_n \\right\\} = \\text{Pr}\\left\\{ \\cup_{n=1}^\\infty B_n \\right\\} = \\sum_{n=1}^\\infty \\text{Pr} \\left\\{ B_n \\right\\} $$\n",
    "\n",
    "In particular, we can consider a different sequence of sets, $A'_1, A'_2, \\dots$ and $B'_1, B'_2, \\dots$, where\n",
    "\n",
    "$$\n",
    "A'_k = \\begin{cases}\n",
    "A_k &\\text{if } k \\leq n \\\\\n",
    "A_n &\\text{if } k > n\n",
    "\\end{cases}\n",
    "\\quad \\text{and} \\quad\n",
    "B'_k = \\begin{cases}\n",
    "B_k &\\text{if } k \\leq n \\\\\n",
    "\\varnothing &\\text{if } k >n\n",
    "\\end{cases}\n",
    "$$\n",
    "\n",
    "Since the previous results also apply to these sequences of sets, the finite version of the result is also valid for every $n$,\n",
    "\n",
    "$$ \\text{Pr}\\left\\{ \\cup_{m=1}^n A_m \\right\\} = \\text{Pr}\\left\\{ \\cup_{m=1}^n B_m \\right\\} = \\sum_{m=1}^n \\text{Pr} \\left\\{ B_m \\right\\} $$\n",
    "\n",
    "But\n",
    "\n",
    "$$ \\lim_{n \\rightarrow \\infty} \\sum_{m=1}^n \\text{Pr} \\left\\{ B_m \\right\\} = \\sum_{n=1}^\\infty \\text{Pr} \\left\\{ B_n \\right\\} $$\n",
    "\n",
    "which exists and is bound between 0 and 1 inclusive, since the right hand value the probability $\\text{Pr}\\left\\{ \\cup_{n=1}^\\infty A_n \\right\\}$.\n",
    "\n",
    "Therefore, by taking the limit to the result on finite sequences, we get\n",
    "\n",
    "$$  \\lim_{n \\rightarrow \\infty} \\text{Pr}\\left\\{ \\cup_{m=1}^n A_m \\right\\} = \\sum_{n=1}^\\infty \\text{Pr} \\left\\{ B_n \\right\\} = \\text{Pr}\\left\\{ \\cup_{n=1}^\\infty A_n \\right\\} $$\n",
    "\n",
    "which is the desired result."
   ]
  },
  {
   "cell_type": "markdown",
   "metadata": {},
   "source": [
    "**(f)**  De Morgan's equality states that\n",
    "\n",
    "$$ \\left(\\cap_{n=1}^\\infty A_n \\right)^c = \\cup_{n=1}^\\infty A_n^c $$\n",
    "\n",
    "By applying the result of (e) to the sequence of complements $A_1^c, A_2^c, \\dots$ we get:\n",
    "\n",
    "$$ \\lim_{n \\rightarrow \\infty} \\text{Pr}\\left\\{ \\cup_{m=1}^n A_m^c \\right\\} = \\text{Pr}\\left\\{ \\cup_{n=1}^\\infty A_n^c \\right\\} $$\n",
    "\n",
    "and using the fact that $\\text{Pr}\\left\\{ X \\right\\} + \\text{Pr}\\left\\{ X^c \\right\\} = 1$ we get\n",
    "\n",
    "$$ \\lim_{n \\rightarrow \\infty} 1 - \\text{Pr}\\left\\{ \\cap_{m=1}^n A_m \\right\\} = 1 - \\text{Pr}\\left\\{ \\cap_{n=1}^\\infty A_n \\right\\} $$\n",
    "\n",
    "from which the result follows,\n",
    "\n",
    "$$ \\lim_{n \\rightarrow \\infty} \\text{Pr}\\left\\{ \\cap_{m=1}^n A_m \\right\\} = \\text{Pr}\\left\\{ \\cap_{n=1}^\\infty A_n \\right\\} $$"
   ]
  },
  {
   "cell_type": "markdown",
   "metadata": {},
   "source": [
    "**Exercise 1.3**.  Find the probability that a five-card poker hand, chosen randomly from a 52-card deck, contains four aces.  That is, if all $52!$ arrangements of a deck of cards are equally likely, what is the probability that all four aces are in the first five cards of the deck."
   ]
  },
  {
   "cell_type": "markdown",
   "metadata": {},
   "source": [
    "**Solution**. There are $52 \\cdot 51 \\cdot 50 \\cdot 49 \\cdot 48$ ordered sequences for the first five cards of the deck.  Of those, the sequences containing four aces correspond to choosing the four aces in some order ($4 \\cdot 3 \\cdot 2 \\cdot 1$), then selecting a fifth card ($48$ choices) and inserting it somewhere alongside the first four cards ($5$ position choices).\n",
    "\n",
    "Therefore, the desired probability is\n",
    "\n",
    "$$ \\frac{(4 \\cdot 3 \\cdot 2 \\cdot 1) \\cdot 48 \\cdot 5}{52 \\cdot 51 \\cdot 50 \\cdot 49 \\cdot 48} = \\frac{1}{54145} $$"
   ]
  },
  {
   "cell_type": "markdown",
   "metadata": {},
   "source": [
    "**Exercise 1.4**. Consider a sample space of eight equiprobable sample points and let $A_1, A_2, A_3$ be three events each of probability $1/2$ such that $\\text{Pr}\\{ A_1 A_2 A_3 \\} = \\text{Pr}\\{A_1\\}\\text{Pr}\\{A_2\\}\\text{Pr}\\{A_3\\}$.\n",
    "\n",
    "**(a)** Create an example where $\\text{Pr}\\{ A_1 A_2 \\} = \\text{Pr}\\{ A_1 A_3 \\} = 1/4$ but $\\text{Pr}\\{ A_2 A_3 \\} = 1/8$.  Hint:  make a table with a row for each sample point and a column for each event and try different ways of assigning sample points to events (the answer is not unique).\n",
    "\n",
    "**(b)** Show that, for your example, $A_2$ and $A_3$ are not independent.  Note that the definition of statistical independence would be very strange indeed if it allowed $A_1, A_2, A_3$ to be independent while $A_2$ and $A_3$ are dependent.  This illustrates why the definition of independence requires (1.14) rather than just (1.15)."
   ]
  },
  {
   "cell_type": "markdown",
   "metadata": {},
   "source": [
    "**Solution**."
   ]
  },
  {
   "cell_type": "markdown",
   "metadata": {},
   "source": [
    "**(a)**\n",
    "\n",
    "Let the sample space be $\\Omega = \\{ \\omega_i : 1 \\leq i \\leq 8, i \\in \\mathbb{N} \\}$, with a probability distribution $\\text{Pr}\\{ \\omega_i \\} = 1/8$ for each $i$.  Consider the events $A_1, A_2, A_3$ specified by:\n",
    "\n",
    "$$\n",
    "\\begin{array}{c|ccc|c|c|c|c}\n",
    "\\omega & A_1 & A_2 & A_3 & A_1 A_2 A_3 & A_1 A_2 & A_1 A_3 & A_2 A_3 \\\\\n",
    "\\hline\n",
    "\\omega_1 & T & T & T & T & T & T & T \\\\ \n",
    "\\omega_2 & T & T & F & F & T & F & F \\\\\n",
    "\\omega_3 & T & F & T & F & F & T & F \\\\\n",
    "\\omega_4 & T & F & F & F & F & F & F \\\\\n",
    "\\omega_5 & F & T & F & F & F & F & F \\\\\n",
    "\\omega_6 & F & T & F & F & F & F & F \\\\\n",
    "\\omega_7 & F & F & T & F & F & F & F \\\\\n",
    "\\omega_8 & F & F & T & F & F & F & F \\\\\n",
    "\\end{array}\n",
    "$$\n",
    "\n",
    "Or, with set notation:\n",
    "\n",
    "$$ \n",
    "\\begin{align}\n",
    "A_1 &= \\{ \\omega_1, \\omega_2, \\omega_3, \\omega_4 \\} \\\\\n",
    "A_2 &= \\{ \\omega_1, \\omega_2, \\omega_5, \\omega_6 \\} \\\\\n",
    "A_3 &= \\{ \\omega_1, \\omega_3, \\omega_7, \\omega_8 \\}\n",
    "\\end{align}\n",
    "$$\n",
    "\n",
    "which leads to:\n",
    "\n",
    "$$ \n",
    "\\begin{align}\n",
    "A_1 A_2 A_3 &= \\{ \\omega_1 \\} \\\\\n",
    "A_1 A_2 &= \\{ \\omega_1, \\omega_2 \\} \\\\\n",
    "A_1 A_3 &= \\{ \\omega_1, \\omega_3 \\} \\\\\n",
    "A_2 A_3 &= \\{ \\omega_1 \\}\n",
    "\\end{align}\n",
    "$$\n",
    "\n",
    "Since $\\{ \\omega_i \\}$ are disjoint for each $i$ and $\\text{Pr}\\{ \\omega_i \\} = 1/8$ for each $i$, the desired properties follow."
   ]
  },
  {
   "cell_type": "markdown",
   "metadata": {},
   "source": [
    "**(b)**  In this example, $A_2$ and $A_3$ are not independent, as $\\text{Pr}\\{A_2\\} = \\text{Pr}\\{ A_3 \\} = 1/2$ and $\\text{Pr}\\{A_2 A_3\\} = 1/8$, so $\\text{Pr}\\{A_2 A_3\\} \\neq \\text{Pr}\\{A_2\\} \\text{Pr}\\{A_3\\}$."
   ]
  },
  {
   "cell_type": "markdown",
   "metadata": {},
   "source": [
    "**Exercise 1.5**.  This exercise shows that for all random variables $X$, $F_X(x)$ is continuous from the right.\n",
    "\n",
    "**(a)** For any given random variable $X$, any real number $x$, and each integer $n \\geq 1$, let $A_n = \\{ \\omega : X > x + 1/  n \\}$, and show that $A_1 \\subseteq A_2 \\subseteq \\cdots$.  Use this and the corollaries to the axioms of probability to show that $\\text{Pr} \\left\\{ \\cup_{n \\geq 1} A_n \\right\\} = \\lim_{n \\rightarrow \\infty} \\text{Pr}\\left\\{A_n\\right\\}$.\n",
    "\n",
    "**(b)** Show that $\\text{Pr}\\left\\{ \\cup_{n \\geq 1} A_n \\right\\} = \\text{Pr}\\left\\{ X > x \\right\\}$ and that $\\text{Pr}\\left\\{ X > x \\right\\} = \\lim_{n \\rightarrow \\infty}\\text{Pr}\\left\\{ X > x + 1 / n \\right\\}$.\n",
    "\n",
    "**(c)** Show that for $\\epsilon > 0$, $\\lim_{\\epsilon \\rightarrow 0} \\text{Pr} \\left\\{ X \\leq x + \\epsilon \\right\\} = \\text{Pr}\\left\\{ X \\leq x \\right\\}$.\n",
    "\n",
    "**(d)** Define $\\tilde{F}_X(x) = \\text{Pr}\\left\\{ X < x \\right\\}$.  Show that $\\tilde{F}_X(x)$ is continuous from the left.  In other words, the continuity from the right for the CDF arises from the almost arbitrary (but universally accepted) choice in defining the CDF as $\\text{Pr}\\left\\{ X \\leq x \\right\\}$ rather than $\\text{Pr}\\left\\{ X < x \\right\\}$."
   ]
  },
  {
   "cell_type": "markdown",
   "metadata": {},
   "source": [
    "**Solution**."
   ]
  },
  {
   "cell_type": "markdown",
   "metadata": {},
   "source": [
    "**(a)**  We have, for every $n \\geq 1$,\n",
    "\n",
    "$$ \\omega \\in A_n \\Rightarrow X(\\omega) > x + 1/n \\Rightarrow X(\\omega) > x + 1 / (n + 1) \\Rightarrow \\omega \\in A_{n+1}$$\n",
    "\n",
    "and so $A_n \\subseteq A_{n + 1}$, which implies $\\cup_{m=1}^n A_m = A_n$ (since the last set, $A_n$, contains all of the previous ones).\n",
    "\n",
    "Then, from the corollary of the axiom of probability (1.8),\n",
    "\n",
    "$$ \\text{Pr}\\left\\{ \\cup_{n=1}^\\infty A_n \\right\\} = \\lim_{m \\rightarrow \\infty} \\text{Pr} \\left\\{ \\cup_{n=1}^m A_n \\right\\}$$\n",
    "\n",
    "we get the desired result,\n",
    "\n",
    "$$ \\text{Pr}\\left\\{ \\cup_{n \\geq 1} A_n \\right\\} = \\lim_{n \\rightarrow \\infty} \\text{Pr}\\left\\{ A_n \\right\\} $$"
   ]
  },
  {
   "cell_type": "markdown",
   "metadata": {},
   "source": [
    "**(b)** We have:\n",
    "\n",
    "$$ \\omega \\in \\cup_{n \\geq 1} A_n \\Rightarrow \\exists n \\geq 1, X(\\omega) > x + 1/n \\Rightarrow X(\\omega) > x \\Rightarrow \\omega \\in \\left\\{ \\omega : X(\\omega) > x \\right\\}$$\n",
    "\n",
    "The implication $\\exists n \\geq 1, X(\\omega) > x + 1/n \\Rightarrow X(\\omega) > x$ can be proven by contradiction:  if $X(\\omega) \\leq x$, then $X(\\omega) \\leq x < x + 1/n$ for all $n$, and so there are no integers $n$ for which $X(\\omega) > x + 1/n$.\n",
    "\n",
    "Given the logic implication above, $\\cup_{n \\geq 1} A_n = \\left\\{ \\omega : X(\\omega) > x \\right\\}$, and so the probability of these two events is the same.  The result now follows from (a):\n",
    "\n",
    "$$ \\text{Pr}\\left\\{ X > x \\right\\} = \\text{Pr} \\left\\{ \\cup_{n \\geq 1} A_n \\right\\} = \\lim_{n \\rightarrow \\infty} \\text{Pr}\\left\\{A_n\\right\\} =  \\lim_{n \\rightarrow \\infty}\\text{Pr}\\left\\{ X > x + 1 / n \\right\\} $$"
   ]
  },
  {
   "cell_type": "markdown",
   "metadata": {},
   "source": [
    "**(c)**  Since the probability of complementary events add up to 1, we can restate the result from (b) as\n",
    "\n",
    "$$ \\text{Pr}\\left\\{ X \\leq x \\right\\} = \\lim_{n \\rightarrow \\infty}\\text{Pr}\\left\\{ X \\leq x + 1 / n \\right\\} $$\n",
    "\n",
    "But this limit is the same as $\\lim_{\\epsilon \\rightarrow 0^+}\\text{Pr}\\left\\{ X \\leq x + \\epsilon \\right\\}$, by replacing each $\\epsilon$ with a potentially smaller value $r(\\epsilon) = 1/n$, where $n = \\lceil 1 / \\epsilon \\rceil$ -- since by construction $\\epsilon \\geq r(\\epsilon)$ and we are just replacing the expression under the limit with an expression that occurs for a later in the limit series:\n",
    "\n",
    "$$\\lim_{\\epsilon \\rightarrow 0^+}\\text{Pr}\\left\\{ X \\leq x + \\epsilon \\right\\} = \n",
    "\\lim_{r(\\epsilon) \\rightarrow 0^+}\\text{Pr}\\left\\{ X \\leq x + r(\\epsilon) \\right\\} = \n",
    "\\lim_{n \\rightarrow \\infty}\\text{Pr}\\left\\{ X \\leq x + 1 / n \\right\\} $$\n",
    "\n",
    "This proves the desired result -- continuity from the right for the CDF $F_X(x)$."
   ]
  },
  {
   "cell_type": "markdown",
   "metadata": {},
   "source": [
    "**(d)**  By definition, $\\tilde{F}_X(x) = \\text{Pr}\\left\\{ X < x \\right\\} = 1 - \\text{Pr}\\left\\{ -X \\leq -x \\right\\} = 1 - F_{-X}(-x) $, where $F_{-X}$ is the CDF for the random variable $-X$.  Since the CDF of random variables are continuous from the right as shown in (c), the newly defined function $\\tilde{F}_X(x)$ must be continuous from the left -- since it is a constant minus a right-continuous function."
   ]
  },
  {
   "cell_type": "markdown",
   "metadata": {},
   "source": [
    "**Exercise 1.6**.  Show that for a continuous non-negative random variable $X$,\n",
    "\n",
    "$$ \\int_0^\\infty \\text{Pr}\\left\\{ X > x \\right\\} dx = \\int_0^\\infty x f_X(x) \\; dx $$\n",
    "\n",
    "Hint 1:  First rewrite $\\text{Pr}\\left\\{ X > x \\right\\}$ on the left-hand side of (1.98) as $\\int_x^\\infty f_X(y) dy$.  Then think through, to your level of comfort, how and why the order of integration can be interchanged in the resulting expression.\n",
    "\n",
    "Hint 2:  As an alternative approach, derive (1.98) using integration by parts."
   ]
  },
  {
   "cell_type": "markdown",
   "metadata": {},
   "source": [
    "**Solution**.\n",
    "\n",
    "$$\n",
    "\\int_0^\\infty \\text{Pr}\\left\\{ X > x \\right\\} dx = \\int_0^\\infty \\int_x^\\infty f_X(y) dy dx\n",
    "= \\int_0^\\infty \\int_0^y f_X(y) dx dy\n",
    "= \\int_0^\\infty y f_X(y) dy\n",
    "$$\n",
    "\n",
    "The order of integration above can be changed since both double integrals sweep the area \n",
    "\n",
    "$$\\{ (x, y) : x \\in [0, \\infty), y \\geq x \\} = \\{ (x, y) : y \\in [0, \\infty), 0 \\leq x \\leq y \\} $$\n",
    "\n",
    "assigning the same integrand to each point, $\\mu(x, y) = f_X(y)$.\n",
    "\n",
    "The result follows by renaming the variable $y$ as $x$ in the last expression."
   ]
  },
  {
   "cell_type": "markdown",
   "metadata": {},
   "source": [
    "**Exercise 1.7**.  Suppose $X$ and $Y$ are discrete random variables with the PMF $p_{XY}(x_i, y_j)$.  Show (a picture will help) that this is related to the joint CDF by\n",
    "\n",
    "$$ p_{XY}(x_i, y_j) = \\lim_{\\delta > 0, \\delta \\rightarrow 0} \\left[ F(x_i, y_j) - F(x_i - \\delta, y_j) - F(x_i, y_j - \\delta) + F(x_i - \\delta, y_j - \\delta) \\right]$$"
   ]
  }
 ],
 "metadata": {
  "kernelspec": {
   "display_name": "Python 3",
   "language": "python",
   "name": "python3"
  },
  "language_info": {
   "codemirror_mode": {
    "name": "ipython",
    "version": 3
   },
   "file_extension": ".py",
   "mimetype": "text/x-python",
   "name": "python",
   "nbconvert_exporter": "python",
   "pygments_lexer": "ipython3",
   "version": "3.7.3"
  }
 },
 "nbformat": 4,
 "nbformat_minor": 2
}
